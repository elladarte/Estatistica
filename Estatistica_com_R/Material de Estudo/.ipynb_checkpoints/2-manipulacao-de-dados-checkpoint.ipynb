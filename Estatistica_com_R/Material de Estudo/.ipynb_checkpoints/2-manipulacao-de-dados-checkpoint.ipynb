{
 "cells": [
  {
   "cell_type": "markdown",
   "metadata": {},
   "source": [
    "# Manipulando, analisando, filtrando e resumindo dados em R\n",
    "A linguagem R tem como um de seus grandes destaques o pacote Tidyverse.<br>\n",
    "Para falar a verdade, o Tidyverse não é um pacote em si, mas sim um conjunto de pacotes.<br>\n",
    "Dentro dele, encotramos o `dplyr`, que é instaldo automaticamente com o `install.packages(\"tidyverse\")`.\n",
    "Vamos aqui fazer uma análise do dataset `Consumo_cerveja.xlsx`. <br>\n",
    "Esse dataset é o que chamamos de uma série temporal: ele tem uma sequência de datas e os valores de certas variáveis nesta sequência.<br>\n",
    "Vamos dar uma olhada nessas variáveis e ver se descobrimos algo.<br>"
   ]
  },
  {
   "cell_type": "markdown",
   "metadata": {},
   "source": [
    "Aqui uma [Cheat Sheet do dplyr](https://github.com/rstudio/cheatsheets/blob/master/data-transformation.pdf)"
   ]
  },
  {
   "cell_type": "code",
   "execution_count": 4,
   "metadata": {},
   "outputs": [
    {
     "name": "stderr",
     "output_type": "stream",
     "text": [
      "\n",
      "Attaching package: 'dplyr'\n",
      "\n",
      "The following objects are masked from 'package:stats':\n",
      "\n",
      "    filter, lag\n",
      "\n",
      "The following objects are masked from 'package:base':\n",
      "\n",
      "    intersect, setdiff, setequal, union\n",
      "\n"
     ]
    }
   ],
   "source": [
    "library(\"dplyr\")\n",
    "library(\"readxl\")"
   ]
  },
  {
   "cell_type": "code",
   "execution_count": 8,
   "metadata": {},
   "outputs": [],
   "source": [
    "dataset <- read_excel(\"dados/Consumo_cerveja.xlsx\")"
   ]
  },
  {
   "cell_type": "markdown",
   "metadata": {},
   "source": [
    "Agora que lemos o nosso arquivo para dentro do ambiente do R, vamos dar uma olhada nas colunas que temos. Para isso vamos usar a função nativa do `R` , a `names()`"
   ]
  },
  {
   "cell_type": "code",
   "execution_count": 9,
   "metadata": {},
   "outputs": [
    {
     "data": {
      "text/html": [
       "<ol class=list-inline>\n",
       "\t<li>'Data'</li>\n",
       "\t<li>'Temperatura Media (C)'</li>\n",
       "\t<li>'Temperatura Minima (C)'</li>\n",
       "\t<li>'Temperatura Maxima (C)'</li>\n",
       "\t<li>'Precipitacao (mm)'</li>\n",
       "\t<li>'Final de Semana'</li>\n",
       "\t<li>'Consumo de cerveja (litros)'</li>\n",
       "</ol>\n"
      ],
      "text/latex": [
       "\\begin{enumerate*}\n",
       "\\item 'Data'\n",
       "\\item 'Temperatura Media (C)'\n",
       "\\item 'Temperatura Minima (C)'\n",
       "\\item 'Temperatura Maxima (C)'\n",
       "\\item 'Precipitacao (mm)'\n",
       "\\item 'Final de Semana'\n",
       "\\item 'Consumo de cerveja (litros)'\n",
       "\\end{enumerate*}\n"
      ],
      "text/markdown": [
       "1. 'Data'\n",
       "2. 'Temperatura Media (C)'\n",
       "3. 'Temperatura Minima (C)'\n",
       "4. 'Temperatura Maxima (C)'\n",
       "5. 'Precipitacao (mm)'\n",
       "6. 'Final de Semana'\n",
       "7. 'Consumo de cerveja (litros)'\n",
       "\n",
       "\n"
      ],
      "text/plain": [
       "[1] \"Data\"                        \"Temperatura Media (C)\"      \n",
       "[3] \"Temperatura Minima (C)\"      \"Temperatura Maxima (C)\"     \n",
       "[5] \"Precipitacao (mm)\"           \"Final de Semana\"            \n",
       "[7] \"Consumo de cerveja (litros)\""
      ]
     },
     "metadata": {},
     "output_type": "display_data"
    }
   ],
   "source": [
    "names(dataset)"
   ]
  },
  {
   "cell_type": "markdown",
   "metadata": {},
   "source": [
    "Vamos dar uma olhada no nosso dataset então. <br>\n",
    "Para imprimir as primeiras `n` linhas nós usamos um comando do tipo `dataset[1:n,]`.<br>\n",
    "A vírgula no final dos colchetes indica que todas as colunas devem ser selecionadas.<br>\n",
    "Se a ideia fosse selecionar da linha 5 até a 25, das colunas 3 a 5 usariamos o seguinte comando:<br>\n",
    "`dataset[5:25,3:5]`<br>\n",
    "Agora se quiséssemos apenas a linha 22 e a 27 das colunas 2 e 5, usariamos:<br>\n",
    "`dataset[c(22,27),c(2,5)]`"
   ]
  },
  {
   "cell_type": "code",
   "execution_count": 10,
   "metadata": {},
   "outputs": [
    {
     "data": {
      "text/html": [
       "<table>\n",
       "<thead><tr><th scope=col>Data</th><th scope=col>Temperatura Media (C)</th><th scope=col>Temperatura Minima (C)</th><th scope=col>Temperatura Maxima (C)</th><th scope=col>Precipitacao (mm)</th><th scope=col>Final de Semana</th><th scope=col>Consumo de cerveja (litros)</th></tr></thead>\n",
       "<tbody>\n",
       "\t<tr><td>2015-01-01</td><td>27.30     </td><td>23.9      </td><td>32.5      </td><td>0.0       </td><td>0         </td><td>25461     </td></tr>\n",
       "\t<tr><td>2015-01-02</td><td>27.02     </td><td>24.5      </td><td>33.5      </td><td>0.0       </td><td>0         </td><td>28972     </td></tr>\n",
       "\t<tr><td>2015-01-03</td><td>24.82     </td><td>22.4      </td><td>29.9      </td><td>0.0       </td><td>1         </td><td>30814     </td></tr>\n",
       "\t<tr><td>2015-01-04</td><td>23.98     </td><td>21.5      </td><td>28.6      </td><td>1.2       </td><td>1         </td><td>29799     </td></tr>\n",
       "\t<tr><td>2015-01-05</td><td>23.82     </td><td>21.0      </td><td>28.3      </td><td>0.0       </td><td>0         </td><td>28900     </td></tr>\n",
       "</tbody>\n",
       "</table>\n"
      ],
      "text/latex": [
       "\\begin{tabular}{r|lllllll}\n",
       " Data & Temperatura Media (C) & Temperatura Minima (C) & Temperatura Maxima (C) & Precipitacao (mm) & Final de Semana & Consumo de cerveja (litros)\\\\\n",
       "\\hline\n",
       "\t 2015-01-01 & 27.30      & 23.9       & 32.5       & 0.0        & 0          & 25461     \\\\\n",
       "\t 2015-01-02 & 27.02      & 24.5       & 33.5       & 0.0        & 0          & 28972     \\\\\n",
       "\t 2015-01-03 & 24.82      & 22.4       & 29.9       & 0.0        & 1          & 30814     \\\\\n",
       "\t 2015-01-04 & 23.98      & 21.5       & 28.6       & 1.2        & 1          & 29799     \\\\\n",
       "\t 2015-01-05 & 23.82      & 21.0       & 28.3       & 0.0        & 0          & 28900     \\\\\n",
       "\\end{tabular}\n"
      ],
      "text/markdown": [
       "\n",
       "| Data | Temperatura Media (C) | Temperatura Minima (C) | Temperatura Maxima (C) | Precipitacao (mm) | Final de Semana | Consumo de cerveja (litros) |\n",
       "|---|---|---|---|---|---|---|\n",
       "| 2015-01-01 | 27.30      | 23.9       | 32.5       | 0.0        | 0          | 25461      |\n",
       "| 2015-01-02 | 27.02      | 24.5       | 33.5       | 0.0        | 0          | 28972      |\n",
       "| 2015-01-03 | 24.82      | 22.4       | 29.9       | 0.0        | 1          | 30814      |\n",
       "| 2015-01-04 | 23.98      | 21.5       | 28.6       | 1.2        | 1          | 29799      |\n",
       "| 2015-01-05 | 23.82      | 21.0       | 28.3       | 0.0        | 0          | 28900      |\n",
       "\n"
      ],
      "text/plain": [
       "  Data       Temperatura Media (C) Temperatura Minima (C)\n",
       "1 2015-01-01 27.30                 23.9                  \n",
       "2 2015-01-02 27.02                 24.5                  \n",
       "3 2015-01-03 24.82                 22.4                  \n",
       "4 2015-01-04 23.98                 21.5                  \n",
       "5 2015-01-05 23.82                 21.0                  \n",
       "  Temperatura Maxima (C) Precipitacao (mm) Final de Semana\n",
       "1 32.5                   0.0               0              \n",
       "2 33.5                   0.0               0              \n",
       "3 29.9                   0.0               1              \n",
       "4 28.6                   1.2               1              \n",
       "5 28.3                   0.0               0              \n",
       "  Consumo de cerveja (litros)\n",
       "1 25461                      \n",
       "2 28972                      \n",
       "3 30814                      \n",
       "4 29799                      \n",
       "5 28900                      "
      ]
     },
     "metadata": {},
     "output_type": "display_data"
    }
   ],
   "source": [
    "dataset[1:5,]"
   ]
  },
  {
   "cell_type": "markdown",
   "metadata": {},
   "source": [
    "Podemos ver que embaixo dos nomes das variáveis, temos valores como `<chr>` e `<dbl>`. <br>\n",
    "Isso indica o tipo da variável interpretada pelo R.<br>\n",
    "Por exemplo, no caso da data, o R interpretou como `<chr>`, ou seja, um texto. <br>\n",
    "No caso das temperaturas mínimas e máximas foi interpretado `<dbl>` que significa um número com casas decimais. <br>\n",
    "No caso da variável 'Fim de Semana', que foi interpretada como numero com casas decimais, é guardado o valor `1` se o dia corresponder a um dia do fim de semana e `0` se for um dia comum. Isso é o que chamamos de uma `variável lógica (binária)`. \n",
    "Ou seja, o `R` interpretou de forma errada o tipo da nossa variável, já que não é um numero com casas decimais e sim um valor lógico.\n",
    "Vamos arrumar isso:"
   ]
  },
  {
   "cell_type": "code",
   "execution_count": 5,
   "metadata": {},
   "outputs": [],
   "source": [
    "dataset$`Final de Semana` <- as.logical(dataset$`Final de Semana`)\n",
    "#o `$` é usado para selecionar uma coluna"
   ]
  },
  {
   "cell_type": "markdown",
   "metadata": {},
   "source": [
    "Vamos ver que, agora, o valor da variável é `<lgl>`, como queríamos."
   ]
  },
  {
   "cell_type": "code",
   "execution_count": 6,
   "metadata": {},
   "outputs": [
    {
     "data": {
      "text/html": [
       "<table>\n",
       "<caption>A tibble: 5 × 7</caption>\n",
       "<thead>\n",
       "\t<tr><th scope=col>Data</th><th scope=col>Temperatura Media (C)</th><th scope=col>Temperatura Minima (C)</th><th scope=col>Temperatura Maxima (C)</th><th scope=col>Precipitacao (mm)</th><th scope=col>Final de Semana</th><th scope=col>Consumo de cerveja (litros)</th></tr>\n",
       "\t<tr><th scope=col>&lt;chr&gt;</th><th scope=col>&lt;dbl&gt;</th><th scope=col>&lt;dbl&gt;</th><th scope=col>&lt;dbl&gt;</th><th scope=col>&lt;dbl&gt;</th><th scope=col>&lt;lgl&gt;</th><th scope=col>&lt;dbl&gt;</th></tr>\n",
       "</thead>\n",
       "<tbody>\n",
       "\t<tr><td>2015-01-01</td><td>27.30</td><td>23.9</td><td>32.5</td><td>0.0</td><td>FALSE</td><td>25461</td></tr>\n",
       "\t<tr><td>2015-01-02</td><td>27.02</td><td>24.5</td><td>33.5</td><td>0.0</td><td>FALSE</td><td>28972</td></tr>\n",
       "\t<tr><td>2015-01-03</td><td>24.82</td><td>22.4</td><td>29.9</td><td>0.0</td><td> TRUE</td><td>30814</td></tr>\n",
       "\t<tr><td>2015-01-04</td><td>23.98</td><td>21.5</td><td>28.6</td><td>1.2</td><td> TRUE</td><td>29799</td></tr>\n",
       "\t<tr><td>2015-01-05</td><td>23.82</td><td>21.0</td><td>28.3</td><td>0.0</td><td>FALSE</td><td>28900</td></tr>\n",
       "</tbody>\n",
       "</table>\n"
      ],
      "text/latex": [
       "A tibble: 5 × 7\n",
       "\\begin{tabular}{lllllll}\n",
       " Data & Temperatura Media (C) & Temperatura Minima (C) & Temperatura Maxima (C) & Precipitacao (mm) & Final de Semana & Consumo de cerveja (litros)\\\\\n",
       " <chr> & <dbl> & <dbl> & <dbl> & <dbl> & <lgl> & <dbl>\\\\\n",
       "\\hline\n",
       "\t 2015-01-01 & 27.30 & 23.9 & 32.5 & 0.0 & FALSE & 25461\\\\\n",
       "\t 2015-01-02 & 27.02 & 24.5 & 33.5 & 0.0 & FALSE & 28972\\\\\n",
       "\t 2015-01-03 & 24.82 & 22.4 & 29.9 & 0.0 &  TRUE & 30814\\\\\n",
       "\t 2015-01-04 & 23.98 & 21.5 & 28.6 & 1.2 &  TRUE & 29799\\\\\n",
       "\t 2015-01-05 & 23.82 & 21.0 & 28.3 & 0.0 & FALSE & 28900\\\\\n",
       "\\end{tabular}\n"
      ],
      "text/markdown": [
       "\n",
       "A tibble: 5 × 7\n",
       "\n",
       "| Data &lt;chr&gt; | Temperatura Media (C) &lt;dbl&gt; | Temperatura Minima (C) &lt;dbl&gt; | Temperatura Maxima (C) &lt;dbl&gt; | Precipitacao (mm) &lt;dbl&gt; | Final de Semana &lt;lgl&gt; | Consumo de cerveja (litros) &lt;dbl&gt; |\n",
       "|---|---|---|---|---|---|---|\n",
       "| 2015-01-01 | 27.30 | 23.9 | 32.5 | 0.0 | FALSE | 25461 |\n",
       "| 2015-01-02 | 27.02 | 24.5 | 33.5 | 0.0 | FALSE | 28972 |\n",
       "| 2015-01-03 | 24.82 | 22.4 | 29.9 | 0.0 |  TRUE | 30814 |\n",
       "| 2015-01-04 | 23.98 | 21.5 | 28.6 | 1.2 |  TRUE | 29799 |\n",
       "| 2015-01-05 | 23.82 | 21.0 | 28.3 | 0.0 | FALSE | 28900 |\n",
       "\n"
      ],
      "text/plain": [
       "  Data       Temperatura Media (C) Temperatura Minima (C)\n",
       "1 2015-01-01 27.30                 23.9                  \n",
       "2 2015-01-02 27.02                 24.5                  \n",
       "3 2015-01-03 24.82                 22.4                  \n",
       "4 2015-01-04 23.98                 21.5                  \n",
       "5 2015-01-05 23.82                 21.0                  \n",
       "  Temperatura Maxima (C) Precipitacao (mm) Final de Semana\n",
       "1 32.5                   0.0               FALSE          \n",
       "2 33.5                   0.0               FALSE          \n",
       "3 29.9                   0.0                TRUE          \n",
       "4 28.6                   1.2                TRUE          \n",
       "5 28.3                   0.0               FALSE          \n",
       "  Consumo de cerveja (litros)\n",
       "1 25461                      \n",
       "2 28972                      \n",
       "3 30814                      \n",
       "4 29799                      \n",
       "5 28900                      "
      ]
     },
     "metadata": {},
     "output_type": "display_data"
    }
   ],
   "source": [
    "dataset[1:5,]"
   ]
  },
  {
   "cell_type": "markdown",
   "metadata": {},
   "source": [
    "Nesse exemplo arrumamos os valores que foram interpretados como numericos para logicos, mas esse tipo de conversão também é possivel para outros tipos de dados.\n",
    "    - as.double -> transforma o dado em um número com casas decimais\n",
    "    - as.fator -> transforma o dado em um fator (por exemplo níveis de escolaridade)\n",
    "    - as.integer -> tranforma o dado em um número inteiro\n",
    "    - as.character -> transforma o dado em um texto/string\n",
    "    - etc...\n",
    "    "
   ]
  },
  {
   "cell_type": "markdown",
   "metadata": {},
   "source": [
    "## Dados faltantes"
   ]
  },
  {
   "cell_type": "markdown",
   "metadata": {},
   "source": [
    "Dados faltantes podem ser um grande problema quando estamos lidando com uma base de dados. Assim, uma abordagem geralmente aplicada é simplesmente removê-los da sua base de dados. No R, muitas funções (a grande maioria delas) exibe um parâmetro `na.rm` que abrevia \"remover NAs (dados faltantes)\"."
   ]
  },
  {
   "cell_type": "code",
   "execution_count": 7,
   "metadata": {},
   "outputs": [
    {
     "name": "stdout",
     "output_type": "stream",
     "text": [
      "[1] NA\n"
     ]
    }
   ],
   "source": [
    "vetor <- c(2,3,4,5,NA,7) \n",
    "#definimos aqui um vetor, vamos ver o que acontece quando aplicamos a função mean()  a ele\n",
    "print(mean(vetor))"
   ]
  },
  {
   "cell_type": "code",
   "execution_count": 8,
   "metadata": {},
   "outputs": [
    {
     "name": "stdout",
     "output_type": "stream",
     "text": [
      "[1] 4.2\n"
     ]
    }
   ],
   "source": [
    "#Agora com o na.rm = TRUE\n",
    "print(mean(vetor, na.rm=TRUE))"
   ]
  },
  {
   "cell_type": "markdown",
   "metadata": {},
   "source": [
    "Outra coisa que podemos querer fazer é inputar algum dado padrão aos dados faltantes, isso pode ser feito da seguinte maneira:"
   ]
  },
  {
   "cell_type": "code",
   "execution_count": 9,
   "metadata": {},
   "outputs": [
    {
     "name": "stdout",
     "output_type": "stream",
     "text": [
      "[1] 2 3 4 5 0 7\n"
     ]
    }
   ],
   "source": [
    "vetor[is.na(vetor)] <- 0\n",
    "print(vetor)"
   ]
  },
  {
   "cell_type": "markdown",
   "metadata": {},
   "source": [
    "## Deep dive in dplyr"
   ]
  },
  {
   "cell_type": "markdown",
   "metadata": {},
   "source": [
    "Vamos agora nos aprofundar na biblioteca `dplyr`. <br>\n",
    "Essa biblioteca é boa porque deixa o nosso código extremamente legível para um ser humano.<br>\n",
    "Isso ocorre porque ela usa uma estrutura de \"verbos\" que regem o que será feito com a base de dados.<br>\n",
    "Os verbos existentes na biblioteca são os seguintes:\n",
    "1. `mutate()` - que adiciona novas variáveis (colunas) ao dataset a partir de operações/ aplicação de funções nas variáveis existentes \n",
    "2. `select()` - seleciona as colunas com base em critérios de nome\n",
    "3. `filter()` - filtra os dados com base em valores.\n",
    "4. `summarise()` - reduz um grande número de valores para valores resumo (como média, contagem, desvio, etc). Para quem mexe com excel, aqui seria algo para criar uma tabela dinâmica (pivot table). Em geral é usado com `group_by()`\n",
    "5. `arrange()`- muda a ordenação das linhas com base em algum critério\n",
    "<br>\n",
    "<br>\n",
    "Todos esses verbos podem ser performados tendo como critério um grupo, usando o `group_by()` , mas é mais comum usar isso no `summarise()`."
   ]
  },
  {
   "cell_type": "markdown",
   "metadata": {},
   "source": [
    "A estrutura de utilização dos verbos é bem simples: <br>\n",
    "`base de dados %>% verbo`"
   ]
  },
  {
   "cell_type": "markdown",
   "metadata": {},
   "source": [
    "Podemos aplicar vários verbos em seguida também, com a seguinte estutura (a ordem de execução será a ordem desses verbos): <br>\n",
    "`base de dados %>% verbo1 %>% verbo2 %>% verbo3`"
   ]
  },
  {
   "cell_type": "markdown",
   "metadata": {},
   "source": [
    "### `mutate()` - adicionando variáveis"
   ]
  },
  {
   "cell_type": "markdown",
   "metadata": {},
   "source": [
    "Vamos aqui adicionar duas variáveis a partir de funções aplicadas em outras.<br>\n",
    "Primeiro, vamos classificar dias com precipitação maior que 10mm como dias chuvosos, criando uma coluna lógica. <br>\n",
    "A segunda coluna criada será a de amplitude térmica, obtida com a diferença entre as temperaturas máximas e mínimas."
   ]
  },
  {
   "cell_type": "code",
   "execution_count": 10,
   "metadata": {},
   "outputs": [],
   "source": [
    "datase_novas_vars <- dataset %>% mutate(\n",
    "            `Dia chuvoso` = if_else(`Precipitacao (mm)` >= 10, TRUE, FALSE, missing = NULL),\n",
    "            # a função if_else tem quatro argumentos. O primeiro é a 'afirmação lógica' a ser avaliada\n",
    "            # no caso, essa afirmação é verificar se a precipitação é maior que 10mm.\n",
    "            # o segundo argumento é o que será inputado no caso da afirmação ser verdadeira\n",
    "            # o terceiro, o que será inputado no caso de falsa\n",
    "            # e o quarto, o que será inputado no caso de missing value (valor faltante)\n",
    "            `Amplitude térmica (C)` = `Temperatura Maxima (C)` - `Temperatura Minima (C)`\n",
    "            )"
   ]
  },
  {
   "cell_type": "code",
   "execution_count": 11,
   "metadata": {},
   "outputs": [
    {
     "data": {
      "text/html": [
       "<table>\n",
       "<caption>A tibble: 5 × 9</caption>\n",
       "<thead>\n",
       "\t<tr><th scope=col>Data</th><th scope=col>Temperatura Media (C)</th><th scope=col>Temperatura Minima (C)</th><th scope=col>Temperatura Maxima (C)</th><th scope=col>Precipitacao (mm)</th><th scope=col>Final de Semana</th><th scope=col>Consumo de cerveja (litros)</th><th scope=col>Dia chuvoso</th><th scope=col>Amplitude térmica (C)</th></tr>\n",
       "\t<tr><th scope=col>&lt;chr&gt;</th><th scope=col>&lt;dbl&gt;</th><th scope=col>&lt;dbl&gt;</th><th scope=col>&lt;dbl&gt;</th><th scope=col>&lt;dbl&gt;</th><th scope=col>&lt;lgl&gt;</th><th scope=col>&lt;dbl&gt;</th><th scope=col>&lt;lgl&gt;</th><th scope=col>&lt;dbl&gt;</th></tr>\n",
       "</thead>\n",
       "<tbody>\n",
       "\t<tr><td>2015-01-01</td><td>27.30</td><td>23.9</td><td>32.5</td><td>0.0</td><td>FALSE</td><td>25461</td><td>FALSE</td><td>8.6</td></tr>\n",
       "\t<tr><td>2015-01-02</td><td>27.02</td><td>24.5</td><td>33.5</td><td>0.0</td><td>FALSE</td><td>28972</td><td>FALSE</td><td>9.0</td></tr>\n",
       "\t<tr><td>2015-01-03</td><td>24.82</td><td>22.4</td><td>29.9</td><td>0.0</td><td> TRUE</td><td>30814</td><td>FALSE</td><td>7.5</td></tr>\n",
       "\t<tr><td>2015-01-04</td><td>23.98</td><td>21.5</td><td>28.6</td><td>1.2</td><td> TRUE</td><td>29799</td><td>FALSE</td><td>7.1</td></tr>\n",
       "\t<tr><td>2015-01-05</td><td>23.82</td><td>21.0</td><td>28.3</td><td>0.0</td><td>FALSE</td><td>28900</td><td>FALSE</td><td>7.3</td></tr>\n",
       "</tbody>\n",
       "</table>\n"
      ],
      "text/latex": [
       "A tibble: 5 × 9\n",
       "\\begin{tabular}{lllllllll}\n",
       " Data & Temperatura Media (C) & Temperatura Minima (C) & Temperatura Maxima (C) & Precipitacao (mm) & Final de Semana & Consumo de cerveja (litros) & Dia chuvoso & Amplitude térmica (C)\\\\\n",
       " <chr> & <dbl> & <dbl> & <dbl> & <dbl> & <lgl> & <dbl> & <lgl> & <dbl>\\\\\n",
       "\\hline\n",
       "\t 2015-01-01 & 27.30 & 23.9 & 32.5 & 0.0 & FALSE & 25461 & FALSE & 8.6\\\\\n",
       "\t 2015-01-02 & 27.02 & 24.5 & 33.5 & 0.0 & FALSE & 28972 & FALSE & 9.0\\\\\n",
       "\t 2015-01-03 & 24.82 & 22.4 & 29.9 & 0.0 &  TRUE & 30814 & FALSE & 7.5\\\\\n",
       "\t 2015-01-04 & 23.98 & 21.5 & 28.6 & 1.2 &  TRUE & 29799 & FALSE & 7.1\\\\\n",
       "\t 2015-01-05 & 23.82 & 21.0 & 28.3 & 0.0 & FALSE & 28900 & FALSE & 7.3\\\\\n",
       "\\end{tabular}\n"
      ],
      "text/markdown": [
       "\n",
       "A tibble: 5 × 9\n",
       "\n",
       "| Data &lt;chr&gt; | Temperatura Media (C) &lt;dbl&gt; | Temperatura Minima (C) &lt;dbl&gt; | Temperatura Maxima (C) &lt;dbl&gt; | Precipitacao (mm) &lt;dbl&gt; | Final de Semana &lt;lgl&gt; | Consumo de cerveja (litros) &lt;dbl&gt; | Dia chuvoso &lt;lgl&gt; | Amplitude térmica (C) &lt;dbl&gt; |\n",
       "|---|---|---|---|---|---|---|---|---|\n",
       "| 2015-01-01 | 27.30 | 23.9 | 32.5 | 0.0 | FALSE | 25461 | FALSE | 8.6 |\n",
       "| 2015-01-02 | 27.02 | 24.5 | 33.5 | 0.0 | FALSE | 28972 | FALSE | 9.0 |\n",
       "| 2015-01-03 | 24.82 | 22.4 | 29.9 | 0.0 |  TRUE | 30814 | FALSE | 7.5 |\n",
       "| 2015-01-04 | 23.98 | 21.5 | 28.6 | 1.2 |  TRUE | 29799 | FALSE | 7.1 |\n",
       "| 2015-01-05 | 23.82 | 21.0 | 28.3 | 0.0 | FALSE | 28900 | FALSE | 7.3 |\n",
       "\n"
      ],
      "text/plain": [
       "  Data       Temperatura Media (C) Temperatura Minima (C)\n",
       "1 2015-01-01 27.30                 23.9                  \n",
       "2 2015-01-02 27.02                 24.5                  \n",
       "3 2015-01-03 24.82                 22.4                  \n",
       "4 2015-01-04 23.98                 21.5                  \n",
       "5 2015-01-05 23.82                 21.0                  \n",
       "  Temperatura Maxima (C) Precipitacao (mm) Final de Semana\n",
       "1 32.5                   0.0               FALSE          \n",
       "2 33.5                   0.0               FALSE          \n",
       "3 29.9                   0.0                TRUE          \n",
       "4 28.6                   1.2                TRUE          \n",
       "5 28.3                   0.0               FALSE          \n",
       "  Consumo de cerveja (litros) Dia chuvoso Amplitude térmica (C)\n",
       "1 25461                       FALSE       8.6                  \n",
       "2 28972                       FALSE       9.0                  \n",
       "3 30814                       FALSE       7.5                  \n",
       "4 29799                       FALSE       7.1                  \n",
       "5 28900                       FALSE       7.3                  "
      ]
     },
     "metadata": {},
     "output_type": "display_data"
    }
   ],
   "source": [
    "datase_novas_vars[1:5,]"
   ]
  },
  {
   "cell_type": "markdown",
   "metadata": {},
   "source": [
    "### `select()` - selecionando valores com base em nome"
   ]
  },
  {
   "cell_type": "markdown",
   "metadata": {},
   "source": [
    "Esse comando é bem simples, nós podemos selecionar as colunas com o critério baseado no nome. \n",
    "<br>Isso pode incluir \"começa com\": `starts_with(padrão procurado)`, \"termina com\": `ends_with(padrão procurado)`, \"contém\": `contains(padrão procurado)`... <br>\n",
    "Pra quem manja mais, pode usar expressões regulares com `matches()` ou muitos outros critérios que vc pode dar uma conferida [aqui!](https://www.rdocumentation.org/packages/tidyselect/versions/1.0.0/topics/select_helpers)"
   ]
  },
  {
   "cell_type": "markdown",
   "metadata": {},
   "source": [
    "Aqui vamos selecionar todas as colunas que contem a palavra \"temperatura\" no título e guardar esse resultado na variável \"selecting\""
   ]
  },
  {
   "cell_type": "code",
   "execution_count": 12,
   "metadata": {},
   "outputs": [],
   "source": [
    "selecting <- dataset %>% select(contains(\"Temperatura\"))"
   ]
  },
  {
   "cell_type": "code",
   "execution_count": 13,
   "metadata": {
    "scrolled": true
   },
   "outputs": [
    {
     "data": {
      "text/html": [
       "<table>\n",
       "<caption>A tibble: 5 × 3</caption>\n",
       "<thead>\n",
       "\t<tr><th scope=col>Temperatura Media (C)</th><th scope=col>Temperatura Minima (C)</th><th scope=col>Temperatura Maxima (C)</th></tr>\n",
       "\t<tr><th scope=col>&lt;dbl&gt;</th><th scope=col>&lt;dbl&gt;</th><th scope=col>&lt;dbl&gt;</th></tr>\n",
       "</thead>\n",
       "<tbody>\n",
       "\t<tr><td>27.30</td><td>23.9</td><td>32.5</td></tr>\n",
       "\t<tr><td>27.02</td><td>24.5</td><td>33.5</td></tr>\n",
       "\t<tr><td>24.82</td><td>22.4</td><td>29.9</td></tr>\n",
       "\t<tr><td>23.98</td><td>21.5</td><td>28.6</td></tr>\n",
       "\t<tr><td>23.82</td><td>21.0</td><td>28.3</td></tr>\n",
       "</tbody>\n",
       "</table>\n"
      ],
      "text/latex": [
       "A tibble: 5 × 3\n",
       "\\begin{tabular}{lll}\n",
       " Temperatura Media (C) & Temperatura Minima (C) & Temperatura Maxima (C)\\\\\n",
       " <dbl> & <dbl> & <dbl>\\\\\n",
       "\\hline\n",
       "\t 27.30 & 23.9 & 32.5\\\\\n",
       "\t 27.02 & 24.5 & 33.5\\\\\n",
       "\t 24.82 & 22.4 & 29.9\\\\\n",
       "\t 23.98 & 21.5 & 28.6\\\\\n",
       "\t 23.82 & 21.0 & 28.3\\\\\n",
       "\\end{tabular}\n"
      ],
      "text/markdown": [
       "\n",
       "A tibble: 5 × 3\n",
       "\n",
       "| Temperatura Media (C) &lt;dbl&gt; | Temperatura Minima (C) &lt;dbl&gt; | Temperatura Maxima (C) &lt;dbl&gt; |\n",
       "|---|---|---|\n",
       "| 27.30 | 23.9 | 32.5 |\n",
       "| 27.02 | 24.5 | 33.5 |\n",
       "| 24.82 | 22.4 | 29.9 |\n",
       "| 23.98 | 21.5 | 28.6 |\n",
       "| 23.82 | 21.0 | 28.3 |\n",
       "\n"
      ],
      "text/plain": [
       "  Temperatura Media (C) Temperatura Minima (C) Temperatura Maxima (C)\n",
       "1 27.30                 23.9                   32.5                  \n",
       "2 27.02                 24.5                   33.5                  \n",
       "3 24.82                 22.4                   29.9                  \n",
       "4 23.98                 21.5                   28.6                  \n",
       "5 23.82                 21.0                   28.3                  "
      ]
     },
     "metadata": {},
     "output_type": "display_data"
    }
   ],
   "source": [
    "selecting[1:5,]"
   ]
  },
  {
   "cell_type": "markdown",
   "metadata": {},
   "source": [
    "### `filter()` - Filtrando nossa base de dados!"
   ]
  },
  {
   "cell_type": "markdown",
   "metadata": {},
   "source": [
    "Vamos supor que você quer analisar sua base de dados e segmentar essa análise com base em algum critério.. Isso é só um dos cenários em que pode ser muito importante você usar filtros!"
   ]
  },
  {
   "cell_type": "markdown",
   "metadata": {},
   "source": [
    "Vamos aqui, pegar apenas os dias em que o consumo de cerveja foi acima da média. Para isso vamos usar a função `mean()` nativa do `R`"
   ]
  },
  {
   "cell_type": "code",
   "execution_count": 14,
   "metadata": {},
   "outputs": [],
   "source": [
    "filtro_cerveja = dataset %>% filter(`Consumo de cerveja (litros)` > mean(`Consumo de cerveja (litros)`, na.rm = TRUE))"
   ]
  },
  {
   "cell_type": "code",
   "execution_count": 15,
   "metadata": {},
   "outputs": [
    {
     "data": {
      "text/html": [
       "<table>\n",
       "<caption>A tibble: 5 × 7</caption>\n",
       "<thead>\n",
       "\t<tr><th scope=col>Data</th><th scope=col>Temperatura Media (C)</th><th scope=col>Temperatura Minima (C)</th><th scope=col>Temperatura Maxima (C)</th><th scope=col>Precipitacao (mm)</th><th scope=col>Final de Semana</th><th scope=col>Consumo de cerveja (litros)</th></tr>\n",
       "\t<tr><th scope=col>&lt;chr&gt;</th><th scope=col>&lt;dbl&gt;</th><th scope=col>&lt;dbl&gt;</th><th scope=col>&lt;dbl&gt;</th><th scope=col>&lt;dbl&gt;</th><th scope=col>&lt;lgl&gt;</th><th scope=col>&lt;dbl&gt;</th></tr>\n",
       "</thead>\n",
       "<tbody>\n",
       "\t<tr><td>2015-01-01</td><td>27.30</td><td>23.9</td><td>32.5</td><td>0.0</td><td>FALSE</td><td>25461</td></tr>\n",
       "\t<tr><td>2015-01-02</td><td>27.02</td><td>24.5</td><td>33.5</td><td>0.0</td><td>FALSE</td><td>28972</td></tr>\n",
       "\t<tr><td>2015-01-03</td><td>24.82</td><td>22.4</td><td>29.9</td><td>0.0</td><td> TRUE</td><td>30814</td></tr>\n",
       "\t<tr><td>2015-01-04</td><td>23.98</td><td>21.5</td><td>28.6</td><td>1.2</td><td> TRUE</td><td>29799</td></tr>\n",
       "\t<tr><td>2015-01-05</td><td>23.82</td><td>21.0</td><td>28.3</td><td>0.0</td><td>FALSE</td><td>28900</td></tr>\n",
       "</tbody>\n",
       "</table>\n"
      ],
      "text/latex": [
       "A tibble: 5 × 7\n",
       "\\begin{tabular}{lllllll}\n",
       " Data & Temperatura Media (C) & Temperatura Minima (C) & Temperatura Maxima (C) & Precipitacao (mm) & Final de Semana & Consumo de cerveja (litros)\\\\\n",
       " <chr> & <dbl> & <dbl> & <dbl> & <dbl> & <lgl> & <dbl>\\\\\n",
       "\\hline\n",
       "\t 2015-01-01 & 27.30 & 23.9 & 32.5 & 0.0 & FALSE & 25461\\\\\n",
       "\t 2015-01-02 & 27.02 & 24.5 & 33.5 & 0.0 & FALSE & 28972\\\\\n",
       "\t 2015-01-03 & 24.82 & 22.4 & 29.9 & 0.0 &  TRUE & 30814\\\\\n",
       "\t 2015-01-04 & 23.98 & 21.5 & 28.6 & 1.2 &  TRUE & 29799\\\\\n",
       "\t 2015-01-05 & 23.82 & 21.0 & 28.3 & 0.0 & FALSE & 28900\\\\\n",
       "\\end{tabular}\n"
      ],
      "text/markdown": [
       "\n",
       "A tibble: 5 × 7\n",
       "\n",
       "| Data &lt;chr&gt; | Temperatura Media (C) &lt;dbl&gt; | Temperatura Minima (C) &lt;dbl&gt; | Temperatura Maxima (C) &lt;dbl&gt; | Precipitacao (mm) &lt;dbl&gt; | Final de Semana &lt;lgl&gt; | Consumo de cerveja (litros) &lt;dbl&gt; |\n",
       "|---|---|---|---|---|---|---|\n",
       "| 2015-01-01 | 27.30 | 23.9 | 32.5 | 0.0 | FALSE | 25461 |\n",
       "| 2015-01-02 | 27.02 | 24.5 | 33.5 | 0.0 | FALSE | 28972 |\n",
       "| 2015-01-03 | 24.82 | 22.4 | 29.9 | 0.0 |  TRUE | 30814 |\n",
       "| 2015-01-04 | 23.98 | 21.5 | 28.6 | 1.2 |  TRUE | 29799 |\n",
       "| 2015-01-05 | 23.82 | 21.0 | 28.3 | 0.0 | FALSE | 28900 |\n",
       "\n"
      ],
      "text/plain": [
       "  Data       Temperatura Media (C) Temperatura Minima (C)\n",
       "1 2015-01-01 27.30                 23.9                  \n",
       "2 2015-01-02 27.02                 24.5                  \n",
       "3 2015-01-03 24.82                 22.4                  \n",
       "4 2015-01-04 23.98                 21.5                  \n",
       "5 2015-01-05 23.82                 21.0                  \n",
       "  Temperatura Maxima (C) Precipitacao (mm) Final de Semana\n",
       "1 32.5                   0.0               FALSE          \n",
       "2 33.5                   0.0               FALSE          \n",
       "3 29.9                   0.0                TRUE          \n",
       "4 28.6                   1.2                TRUE          \n",
       "5 28.3                   0.0               FALSE          \n",
       "  Consumo de cerveja (litros)\n",
       "1 25461                      \n",
       "2 28972                      \n",
       "3 30814                      \n",
       "4 29799                      \n",
       "5 28900                      "
      ]
     },
     "metadata": {},
     "output_type": "display_data"
    }
   ],
   "source": [
    "filtro_cerveja[1:5,]"
   ]
  },
  {
   "cell_type": "markdown",
   "metadata": {},
   "source": [
    "Agora vamos filtrar nossa base, pegando apenas as linhas que correspondem a finais de semana"
   ]
  },
  {
   "cell_type": "code",
   "execution_count": 16,
   "metadata": {},
   "outputs": [],
   "source": [
    "filtro_fds = dataset %>% filter(`Final de Semana` == TRUE)"
   ]
  },
  {
   "cell_type": "code",
   "execution_count": 17,
   "metadata": {},
   "outputs": [
    {
     "data": {
      "text/html": [
       "<table>\n",
       "<caption>A tibble: 5 × 7</caption>\n",
       "<thead>\n",
       "\t<tr><th scope=col>Data</th><th scope=col>Temperatura Media (C)</th><th scope=col>Temperatura Minima (C)</th><th scope=col>Temperatura Maxima (C)</th><th scope=col>Precipitacao (mm)</th><th scope=col>Final de Semana</th><th scope=col>Consumo de cerveja (litros)</th></tr>\n",
       "\t<tr><th scope=col>&lt;chr&gt;</th><th scope=col>&lt;dbl&gt;</th><th scope=col>&lt;dbl&gt;</th><th scope=col>&lt;dbl&gt;</th><th scope=col>&lt;dbl&gt;</th><th scope=col>&lt;lgl&gt;</th><th scope=col>&lt;dbl&gt;</th></tr>\n",
       "</thead>\n",
       "<tbody>\n",
       "\t<tr><td>2015-01-03</td><td>24.82</td><td>22.4</td><td>29.9</td><td>0.0</td><td>TRUE</td><td>30814</td></tr>\n",
       "\t<tr><td>2015-01-04</td><td>23.98</td><td>21.5</td><td>28.6</td><td>1.2</td><td>TRUE</td><td>29799</td></tr>\n",
       "\t<tr><td>2015-01-10</td><td>26.76</td><td>22.1</td><td>34.2</td><td>0.0</td><td>TRUE</td><td>37937</td></tr>\n",
       "\t<tr><td>2015-01-11</td><td>27.62</td><td>22.2</td><td>34.8</td><td>3.4</td><td>TRUE</td><td>36254</td></tr>\n",
       "\t<tr><td>2015-01-17</td><td>28.86</td><td>22.0</td><td>35.8</td><td>0.0</td><td>TRUE</td><td>37690</td></tr>\n",
       "</tbody>\n",
       "</table>\n"
      ],
      "text/latex": [
       "A tibble: 5 × 7\n",
       "\\begin{tabular}{lllllll}\n",
       " Data & Temperatura Media (C) & Temperatura Minima (C) & Temperatura Maxima (C) & Precipitacao (mm) & Final de Semana & Consumo de cerveja (litros)\\\\\n",
       " <chr> & <dbl> & <dbl> & <dbl> & <dbl> & <lgl> & <dbl>\\\\\n",
       "\\hline\n",
       "\t 2015-01-03 & 24.82 & 22.4 & 29.9 & 0.0 & TRUE & 30814\\\\\n",
       "\t 2015-01-04 & 23.98 & 21.5 & 28.6 & 1.2 & TRUE & 29799\\\\\n",
       "\t 2015-01-10 & 26.76 & 22.1 & 34.2 & 0.0 & TRUE & 37937\\\\\n",
       "\t 2015-01-11 & 27.62 & 22.2 & 34.8 & 3.4 & TRUE & 36254\\\\\n",
       "\t 2015-01-17 & 28.86 & 22.0 & 35.8 & 0.0 & TRUE & 37690\\\\\n",
       "\\end{tabular}\n"
      ],
      "text/markdown": [
       "\n",
       "A tibble: 5 × 7\n",
       "\n",
       "| Data &lt;chr&gt; | Temperatura Media (C) &lt;dbl&gt; | Temperatura Minima (C) &lt;dbl&gt; | Temperatura Maxima (C) &lt;dbl&gt; | Precipitacao (mm) &lt;dbl&gt; | Final de Semana &lt;lgl&gt; | Consumo de cerveja (litros) &lt;dbl&gt; |\n",
       "|---|---|---|---|---|---|---|\n",
       "| 2015-01-03 | 24.82 | 22.4 | 29.9 | 0.0 | TRUE | 30814 |\n",
       "| 2015-01-04 | 23.98 | 21.5 | 28.6 | 1.2 | TRUE | 29799 |\n",
       "| 2015-01-10 | 26.76 | 22.1 | 34.2 | 0.0 | TRUE | 37937 |\n",
       "| 2015-01-11 | 27.62 | 22.2 | 34.8 | 3.4 | TRUE | 36254 |\n",
       "| 2015-01-17 | 28.86 | 22.0 | 35.8 | 0.0 | TRUE | 37690 |\n",
       "\n"
      ],
      "text/plain": [
       "  Data       Temperatura Media (C) Temperatura Minima (C)\n",
       "1 2015-01-03 24.82                 22.4                  \n",
       "2 2015-01-04 23.98                 21.5                  \n",
       "3 2015-01-10 26.76                 22.1                  \n",
       "4 2015-01-11 27.62                 22.2                  \n",
       "5 2015-01-17 28.86                 22.0                  \n",
       "  Temperatura Maxima (C) Precipitacao (mm) Final de Semana\n",
       "1 29.9                   0.0               TRUE           \n",
       "2 28.6                   1.2               TRUE           \n",
       "3 34.2                   0.0               TRUE           \n",
       "4 34.8                   3.4               TRUE           \n",
       "5 35.8                   0.0               TRUE           \n",
       "  Consumo de cerveja (litros)\n",
       "1 30814                      \n",
       "2 29799                      \n",
       "3 37937                      \n",
       "4 36254                      \n",
       "5 37690                      "
      ]
     },
     "metadata": {},
     "output_type": "display_data"
    }
   ],
   "source": [
    "filtro_fds[1:5,]"
   ]
  },
  {
   "cell_type": "markdown",
   "metadata": {},
   "source": [
    "### `summarise()` - \"Tabelas dinâmicas\" no R"
   ]
  },
  {
   "cell_type": "markdown",
   "metadata": {},
   "source": [
    "Usar o verbo `summarise()` vai produzir um único número com a(s) medida(s) resumo escolhidas. <br>\n",
    "Mas como, muitas vezes, nós queremos segmentar a análise para subgrupos diferentes do dataset, o `summarise()` costuma ser utilizado com o `group_by()`. <br>\n",
    "O `group_by()` vai fazer com que as medidas resumos sejam feitas com base nos diferentes valores tidos em uma coluna."
   ]
  },
  {
   "cell_type": "markdown",
   "metadata": {},
   "source": [
    "Vamos, primeiro, usar o `summarise()` puro. Perceba que ele devolve a medida escolhida levando em consideração todas as linhas."
   ]
  },
  {
   "cell_type": "code",
   "execution_count": 18,
   "metadata": {},
   "outputs": [
    {
     "data": {
      "text/html": [
       "<table>\n",
       "<caption>A tibble: 1 × 1</caption>\n",
       "<thead>\n",
       "\t<tr><th scope=col>media</th></tr>\n",
       "\t<tr><th scope=col>&lt;dbl&gt;</th></tr>\n",
       "</thead>\n",
       "<tbody>\n",
       "\t<tr><td>25401.37</td></tr>\n",
       "</tbody>\n",
       "</table>\n"
      ],
      "text/latex": [
       "A tibble: 1 × 1\n",
       "\\begin{tabular}{l}\n",
       " media\\\\\n",
       " <dbl>\\\\\n",
       "\\hline\n",
       "\t 25401.37\\\\\n",
       "\\end{tabular}\n"
      ],
      "text/markdown": [
       "\n",
       "A tibble: 1 × 1\n",
       "\n",
       "| media &lt;dbl&gt; |\n",
       "|---|\n",
       "| 25401.37 |\n",
       "\n"
      ],
      "text/plain": [
       "  media   \n",
       "1 25401.37"
      ]
     },
     "metadata": {},
     "output_type": "display_data"
    }
   ],
   "source": [
    "dataset %>%\n",
    "  summarise(media = mean(`Consumo de cerveja (litros)`))"
   ]
  },
  {
   "cell_type": "markdown",
   "metadata": {},
   "source": [
    "Agora, utilizando o `group_by()` podemos segmentar os números com base em uma categoria (se é fim de semana ou não)."
   ]
  },
  {
   "cell_type": "code",
   "execution_count": 19,
   "metadata": {},
   "outputs": [
    {
     "data": {
      "text/html": [
       "<table>\n",
       "<caption>A tibble: 2 × 3</caption>\n",
       "<thead>\n",
       "\t<tr><th scope=col>Final de Semana</th><th scope=col>Média de consumo de cerveja (litros)</th><th scope=col>Desvio Padrão no consumo de cerveja (litros)</th></tr>\n",
       "\t<tr><th scope=col>&lt;lgl&gt;</th><th scope=col>&lt;dbl&gt;</th><th scope=col>&lt;dbl&gt;</th></tr>\n",
       "</thead>\n",
       "<tbody>\n",
       "\t<tr><td>FALSE</td><td>23998.22</td><td>3787.527</td></tr>\n",
       "\t<tr><td> TRUE</td><td>28922.72</td><td>3830.191</td></tr>\n",
       "</tbody>\n",
       "</table>\n"
      ],
      "text/latex": [
       "A tibble: 2 × 3\n",
       "\\begin{tabular}{lll}\n",
       " Final de Semana & Média de consumo de cerveja (litros) & Desvio Padrão no consumo de cerveja (litros)\\\\\n",
       " <lgl> & <dbl> & <dbl>\\\\\n",
       "\\hline\n",
       "\t FALSE & 23998.22 & 3787.527\\\\\n",
       "\t  TRUE & 28922.72 & 3830.191\\\\\n",
       "\\end{tabular}\n"
      ],
      "text/markdown": [
       "\n",
       "A tibble: 2 × 3\n",
       "\n",
       "| Final de Semana &lt;lgl&gt; | Média de consumo de cerveja (litros) &lt;dbl&gt; | Desvio Padrão no consumo de cerveja (litros) &lt;dbl&gt; |\n",
       "|---|---|---|\n",
       "| FALSE | 23998.22 | 3787.527 |\n",
       "|  TRUE | 28922.72 | 3830.191 |\n",
       "\n"
      ],
      "text/plain": [
       "  Final de Semana Média de consumo de cerveja (litros)\n",
       "1 FALSE           23998.22                            \n",
       "2  TRUE           28922.72                            \n",
       "  Desvio Padrão no consumo de cerveja (litros)\n",
       "1 3787.527                                    \n",
       "2 3830.191                                    "
      ]
     },
     "metadata": {},
     "output_type": "display_data"
    }
   ],
   "source": [
    "dataset %>% \n",
    "        group_by(`Final de Semana`) %>%\n",
    "        summarise(`Média de consumo de cerveja (litros)` = mean(`Consumo de cerveja (litros)`), \n",
    "                  `Desvio Padrão no consumo de cerveja (litros)` = sd(`Consumo de cerveja (litros)`))"
   ]
  },
  {
   "cell_type": "markdown",
   "metadata": {},
   "source": [
    "### `arrange()` - Alterando a ordem das linhas do seu dataset"
   ]
  },
  {
   "cell_type": "markdown",
   "metadata": {},
   "source": [
    "Esse é provavelmente o verbo mais fácil de ser usado. Você passa como argumento um ou mais critérios de ordenação (sendo que a ordem de preferência é a ordem passada). <br>\n",
    "Caso queira que a ordenação seja decrescente, é só utilizar a função `desc()`."
   ]
  },
  {
   "cell_type": "markdown",
   "metadata": {},
   "source": [
    "Ordenando o dataset do maior para o menor consumo de cerveja"
   ]
  },
  {
   "cell_type": "code",
   "execution_count": 20,
   "metadata": {},
   "outputs": [],
   "source": [
    "desc_consumo_cerveja = dataset %>% arrange(desc(`Consumo de cerveja (litros)`))"
   ]
  },
  {
   "cell_type": "code",
   "execution_count": 21,
   "metadata": {},
   "outputs": [
    {
     "data": {
      "text/html": [
       "<table>\n",
       "<caption>A tibble: 5 × 7</caption>\n",
       "<thead>\n",
       "\t<tr><th scope=col>Data</th><th scope=col>Temperatura Media (C)</th><th scope=col>Temperatura Minima (C)</th><th scope=col>Temperatura Maxima (C)</th><th scope=col>Precipitacao (mm)</th><th scope=col>Final de Semana</th><th scope=col>Consumo de cerveja (litros)</th></tr>\n",
       "\t<tr><th scope=col>&lt;chr&gt;</th><th scope=col>&lt;dbl&gt;</th><th scope=col>&lt;dbl&gt;</th><th scope=col>&lt;dbl&gt;</th><th scope=col>&lt;dbl&gt;</th><th scope=col>&lt;lgl&gt;</th><th scope=col>&lt;dbl&gt;</th></tr>\n",
       "</thead>\n",
       "<tbody>\n",
       "\t<tr><td>2015-01-10</td><td>26.76</td><td>22.1</td><td>34.2</td><td>0.0</td><td> TRUE</td><td>37937</td></tr>\n",
       "\t<tr><td>2015-01-17</td><td>28.86</td><td>22.0</td><td>35.8</td><td>0.0</td><td> TRUE</td><td>37690</td></tr>\n",
       "\t<tr><td>2015-01-11</td><td>27.62</td><td>22.2</td><td>34.8</td><td>3.4</td><td> TRUE</td><td>36254</td></tr>\n",
       "\t<tr><td>2015-10-15</td><td>28.12</td><td>18.9</td><td>35.8</td><td>0.0</td><td>FALSE</td><td>35861</td></tr>\n",
       "\t<tr><td>2015-10-31</td><td>23.18</td><td>18.2</td><td>29.3</td><td>0.0</td><td> TRUE</td><td>35781</td></tr>\n",
       "</tbody>\n",
       "</table>\n"
      ],
      "text/latex": [
       "A tibble: 5 × 7\n",
       "\\begin{tabular}{lllllll}\n",
       " Data & Temperatura Media (C) & Temperatura Minima (C) & Temperatura Maxima (C) & Precipitacao (mm) & Final de Semana & Consumo de cerveja (litros)\\\\\n",
       " <chr> & <dbl> & <dbl> & <dbl> & <dbl> & <lgl> & <dbl>\\\\\n",
       "\\hline\n",
       "\t 2015-01-10 & 26.76 & 22.1 & 34.2 & 0.0 &  TRUE & 37937\\\\\n",
       "\t 2015-01-17 & 28.86 & 22.0 & 35.8 & 0.0 &  TRUE & 37690\\\\\n",
       "\t 2015-01-11 & 27.62 & 22.2 & 34.8 & 3.4 &  TRUE & 36254\\\\\n",
       "\t 2015-10-15 & 28.12 & 18.9 & 35.8 & 0.0 & FALSE & 35861\\\\\n",
       "\t 2015-10-31 & 23.18 & 18.2 & 29.3 & 0.0 &  TRUE & 35781\\\\\n",
       "\\end{tabular}\n"
      ],
      "text/markdown": [
       "\n",
       "A tibble: 5 × 7\n",
       "\n",
       "| Data &lt;chr&gt; | Temperatura Media (C) &lt;dbl&gt; | Temperatura Minima (C) &lt;dbl&gt; | Temperatura Maxima (C) &lt;dbl&gt; | Precipitacao (mm) &lt;dbl&gt; | Final de Semana &lt;lgl&gt; | Consumo de cerveja (litros) &lt;dbl&gt; |\n",
       "|---|---|---|---|---|---|---|\n",
       "| 2015-01-10 | 26.76 | 22.1 | 34.2 | 0.0 |  TRUE | 37937 |\n",
       "| 2015-01-17 | 28.86 | 22.0 | 35.8 | 0.0 |  TRUE | 37690 |\n",
       "| 2015-01-11 | 27.62 | 22.2 | 34.8 | 3.4 |  TRUE | 36254 |\n",
       "| 2015-10-15 | 28.12 | 18.9 | 35.8 | 0.0 | FALSE | 35861 |\n",
       "| 2015-10-31 | 23.18 | 18.2 | 29.3 | 0.0 |  TRUE | 35781 |\n",
       "\n"
      ],
      "text/plain": [
       "  Data       Temperatura Media (C) Temperatura Minima (C)\n",
       "1 2015-01-10 26.76                 22.1                  \n",
       "2 2015-01-17 28.86                 22.0                  \n",
       "3 2015-01-11 27.62                 22.2                  \n",
       "4 2015-10-15 28.12                 18.9                  \n",
       "5 2015-10-31 23.18                 18.2                  \n",
       "  Temperatura Maxima (C) Precipitacao (mm) Final de Semana\n",
       "1 34.2                   0.0                TRUE          \n",
       "2 35.8                   0.0                TRUE          \n",
       "3 34.8                   3.4                TRUE          \n",
       "4 35.8                   0.0               FALSE          \n",
       "5 29.3                   0.0                TRUE          \n",
       "  Consumo de cerveja (litros)\n",
       "1 37937                      \n",
       "2 37690                      \n",
       "3 36254                      \n",
       "4 35861                      \n",
       "5 35781                      "
      ]
     },
     "metadata": {},
     "output_type": "display_data"
    }
   ],
   "source": [
    "desc_consumo_cerveja[1:5,]"
   ]
  },
  {
   "cell_type": "markdown",
   "metadata": {},
   "source": [
    "Ordenando o dataset da menor para a maior Temperatura Máxima"
   ]
  },
  {
   "cell_type": "code",
   "execution_count": 22,
   "metadata": {},
   "outputs": [],
   "source": [
    "ord_max_temp <- dataset %>% arrange(`Temperatura Maxima (C)`)"
   ]
  },
  {
   "cell_type": "code",
   "execution_count": 23,
   "metadata": {},
   "outputs": [
    {
     "data": {
      "text/html": [
       "<table>\n",
       "<caption>A tibble: 5 × 7</caption>\n",
       "<thead>\n",
       "\t<tr><th scope=col>Data</th><th scope=col>Temperatura Media (C)</th><th scope=col>Temperatura Minima (C)</th><th scope=col>Temperatura Maxima (C)</th><th scope=col>Precipitacao (mm)</th><th scope=col>Final de Semana</th><th scope=col>Consumo de cerveja (litros)</th></tr>\n",
       "\t<tr><th scope=col>&lt;chr&gt;</th><th scope=col>&lt;dbl&gt;</th><th scope=col>&lt;dbl&gt;</th><th scope=col>&lt;dbl&gt;</th><th scope=col>&lt;dbl&gt;</th><th scope=col>&lt;lgl&gt;</th><th scope=col>&lt;dbl&gt;</th></tr>\n",
       "</thead>\n",
       "<tbody>\n",
       "\t<tr><td>2015-07-05</td><td>12.90</td><td>11.0</td><td>14.5</td><td> 4.4</td><td> TRUE</td><td>21294</td></tr>\n",
       "\t<tr><td>2015-09-12</td><td>14.00</td><td>12.8</td><td>15.6</td><td>27.6</td><td> TRUE</td><td>21814</td></tr>\n",
       "\t<tr><td>2015-07-22</td><td>14.52</td><td>12.8</td><td>16.1</td><td> 0.0</td><td>FALSE</td><td>14343</td></tr>\n",
       "\t<tr><td>2015-09-13</td><td>14.18</td><td>12.5</td><td>16.1</td><td> 0.0</td><td> TRUE</td><td>21252</td></tr>\n",
       "\t<tr><td>2015-06-25</td><td>14.72</td><td>12.1</td><td>17.4</td><td> 1.0</td><td>FALSE</td><td>19463</td></tr>\n",
       "</tbody>\n",
       "</table>\n"
      ],
      "text/latex": [
       "A tibble: 5 × 7\n",
       "\\begin{tabular}{lllllll}\n",
       " Data & Temperatura Media (C) & Temperatura Minima (C) & Temperatura Maxima (C) & Precipitacao (mm) & Final de Semana & Consumo de cerveja (litros)\\\\\n",
       " <chr> & <dbl> & <dbl> & <dbl> & <dbl> & <lgl> & <dbl>\\\\\n",
       "\\hline\n",
       "\t 2015-07-05 & 12.90 & 11.0 & 14.5 &  4.4 &  TRUE & 21294\\\\\n",
       "\t 2015-09-12 & 14.00 & 12.8 & 15.6 & 27.6 &  TRUE & 21814\\\\\n",
       "\t 2015-07-22 & 14.52 & 12.8 & 16.1 &  0.0 & FALSE & 14343\\\\\n",
       "\t 2015-09-13 & 14.18 & 12.5 & 16.1 &  0.0 &  TRUE & 21252\\\\\n",
       "\t 2015-06-25 & 14.72 & 12.1 & 17.4 &  1.0 & FALSE & 19463\\\\\n",
       "\\end{tabular}\n"
      ],
      "text/markdown": [
       "\n",
       "A tibble: 5 × 7\n",
       "\n",
       "| Data &lt;chr&gt; | Temperatura Media (C) &lt;dbl&gt; | Temperatura Minima (C) &lt;dbl&gt; | Temperatura Maxima (C) &lt;dbl&gt; | Precipitacao (mm) &lt;dbl&gt; | Final de Semana &lt;lgl&gt; | Consumo de cerveja (litros) &lt;dbl&gt; |\n",
       "|---|---|---|---|---|---|---|\n",
       "| 2015-07-05 | 12.90 | 11.0 | 14.5 |  4.4 |  TRUE | 21294 |\n",
       "| 2015-09-12 | 14.00 | 12.8 | 15.6 | 27.6 |  TRUE | 21814 |\n",
       "| 2015-07-22 | 14.52 | 12.8 | 16.1 |  0.0 | FALSE | 14343 |\n",
       "| 2015-09-13 | 14.18 | 12.5 | 16.1 |  0.0 |  TRUE | 21252 |\n",
       "| 2015-06-25 | 14.72 | 12.1 | 17.4 |  1.0 | FALSE | 19463 |\n",
       "\n"
      ],
      "text/plain": [
       "  Data       Temperatura Media (C) Temperatura Minima (C)\n",
       "1 2015-07-05 12.90                 11.0                  \n",
       "2 2015-09-12 14.00                 12.8                  \n",
       "3 2015-07-22 14.52                 12.8                  \n",
       "4 2015-09-13 14.18                 12.5                  \n",
       "5 2015-06-25 14.72                 12.1                  \n",
       "  Temperatura Maxima (C) Precipitacao (mm) Final de Semana\n",
       "1 14.5                    4.4               TRUE          \n",
       "2 15.6                   27.6               TRUE          \n",
       "3 16.1                    0.0              FALSE          \n",
       "4 16.1                    0.0               TRUE          \n",
       "5 17.4                    1.0              FALSE          \n",
       "  Consumo de cerveja (litros)\n",
       "1 21294                      \n",
       "2 21814                      \n",
       "3 14343                      \n",
       "4 21252                      \n",
       "5 19463                      "
      ]
     },
     "metadata": {},
     "output_type": "display_data"
    }
   ],
   "source": [
    "ord_max_temp[1:5,]"
   ]
  },
  {
   "cell_type": "markdown",
   "metadata": {},
   "source": [
    "### Usando vários verbos ao mesmo tempo"
   ]
  },
  {
   "cell_type": "markdown",
   "metadata": {},
   "source": [
    "Vamos agora usar o `summarise()` junto com o `filter()` com as mesmas operações feitas antes, note a diferença. <br>\n",
    "Agora, estamos fazendo as medidas resumo apenas para o que esta na base filtrada"
   ]
  },
  {
   "cell_type": "code",
   "execution_count": 24,
   "metadata": {},
   "outputs": [
    {
     "data": {
      "text/html": [
       "<table>\n",
       "<caption>A tibble: 2 × 3</caption>\n",
       "<thead>\n",
       "\t<tr><th scope=col>Final de Semana</th><th scope=col>Média de consumo de cerveja (litros)</th><th scope=col>Desvio Padrão no consumo de cerveja (litros)</th></tr>\n",
       "\t<tr><th scope=col>&lt;lgl&gt;</th><th scope=col>&lt;dbl&gt;</th><th scope=col>&lt;dbl&gt;</th></tr>\n",
       "</thead>\n",
       "<tbody>\n",
       "\t<tr><td>FALSE</td><td>28313.24</td><td>2278.434</td></tr>\n",
       "\t<tr><td> TRUE</td><td>30440.48</td><td>2781.788</td></tr>\n",
       "</tbody>\n",
       "</table>\n"
      ],
      "text/latex": [
       "A tibble: 2 × 3\n",
       "\\begin{tabular}{lll}\n",
       " Final de Semana & Média de consumo de cerveja (litros) & Desvio Padrão no consumo de cerveja (litros)\\\\\n",
       " <lgl> & <dbl> & <dbl>\\\\\n",
       "\\hline\n",
       "\t FALSE & 28313.24 & 2278.434\\\\\n",
       "\t  TRUE & 30440.48 & 2781.788\\\\\n",
       "\\end{tabular}\n"
      ],
      "text/markdown": [
       "\n",
       "A tibble: 2 × 3\n",
       "\n",
       "| Final de Semana &lt;lgl&gt; | Média de consumo de cerveja (litros) &lt;dbl&gt; | Desvio Padrão no consumo de cerveja (litros) &lt;dbl&gt; |\n",
       "|---|---|---|\n",
       "| FALSE | 28313.24 | 2278.434 |\n",
       "|  TRUE | 30440.48 | 2781.788 |\n",
       "\n"
      ],
      "text/plain": [
       "  Final de Semana Média de consumo de cerveja (litros)\n",
       "1 FALSE           28313.24                            \n",
       "2  TRUE           30440.48                            \n",
       "  Desvio Padrão no consumo de cerveja (litros)\n",
       "1 2278.434                                    \n",
       "2 2781.788                                    "
      ]
     },
     "metadata": {},
     "output_type": "display_data"
    }
   ],
   "source": [
    "dataset %>%\n",
    "        filter(`Consumo de cerveja (litros)` > mean(`Consumo de cerveja (litros)`, na.rm = TRUE))%>%\n",
    "        group_by(`Final de Semana`) %>%\n",
    "        summarise(`Média de consumo de cerveja (litros)` = mean(`Consumo de cerveja (litros)`), \n",
    "                  `Desvio Padrão no consumo de cerveja (litros)` = sd(`Consumo de cerveja (litros)`))"
   ]
  },
  {
   "cell_type": "markdown",
   "metadata": {},
   "source": [
    "### Importante!\n",
    "É importante saber que muitas dessas operações não necessitam no `dplyr` para serem feitas, existindo funções nativas do `R` que dariam conta do recado.\n",
    "<br> A grande facilidade do `dplyr` é que o código se torna extremamente legível."
   ]
  }
 ],
 "metadata": {
  "kernelspec": {
   "display_name": "R",
   "language": "R",
   "name": "ir"
  },
  "language_info": {
   "codemirror_mode": "r",
   "file_extension": ".r",
   "mimetype": "text/x-r-source",
   "name": "R",
   "pygments_lexer": "r",
   "version": "3.6.1"
  }
 },
 "nbformat": 4,
 "nbformat_minor": 2
}
