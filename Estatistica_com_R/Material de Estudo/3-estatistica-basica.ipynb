{
 "cells": [
  {
   "cell_type": "markdown",
   "metadata": {},
   "source": [
    "# Estatística Básica em R\n",
    "\n",
    "Agora que já vimos o básico de importação de dados em **R**, estamos prontos para entender como essa linguagem é utilizada efetivamente para fazer análises estatísticas!\n",
    "\n",
    "Mas não se preocupe, vamos explorando os diversos temas de estatística enquanto aprendemos mais sobre **R**."
   ]
  },
  {
   "cell_type": "markdown",
   "metadata": {},
   "source": [
    "## Tipos de Dados\n",
    "\n",
    "Um dos pontos base da Estatística consiste em entender nossas informações e como elas elas são organizadas: os **dados**. Esses dados podem ser divididos em dois tipos diferentes: dados **qualitativos** e dados **quantitativos**.\n",
    "\n",
    "### Dados Qualitativos\n",
    "\n",
    "Esses dados representam **categorias** do nosso espaço, ou seja, eles dividem os indivíduos em diversas classes que não se intersectam. Por exemplo, a cor de uma flor é um tipo de dado qualitativo, já que as categoriza em classes como: *'amarelo'*, *'rosa'*, *'vermelho'*, *'azul'*, etc. Esses dados são bem úteis para representar características que não são facilmente descritas por números, como qualidades (daí vem o nome)."
   ]
  },
  {
   "cell_type": "code",
   "execution_count": 1,
   "metadata": {},
   "outputs": [
    {
     "data": {
      "text/html": [
       "<table>\n",
       "<thead><tr><th scope=col>Flor</th><th scope=col>Cor</th></tr></thead>\n",
       "<tbody>\n",
       "\t<tr><td>Margarida</td><td>Amarelo  </td></tr>\n",
       "\t<tr><td>Hortênsia</td><td>Azul     </td></tr>\n",
       "\t<tr><td>Violeta  </td><td>Azul     </td></tr>\n",
       "\t<tr><td>Rosa     </td><td>Vermelho </td></tr>\n",
       "</tbody>\n",
       "</table>\n"
      ],
      "text/latex": [
       "\\begin{tabular}{r|ll}\n",
       " Flor & Cor\\\\\n",
       "\\hline\n",
       "\t Margarida & Amarelo  \\\\\n",
       "\t Hortênsia & Azul     \\\\\n",
       "\t Violeta   & Azul     \\\\\n",
       "\t Rosa      & Vermelho \\\\\n",
       "\\end{tabular}\n"
      ],
      "text/markdown": [
       "\n",
       "| Flor | Cor |\n",
       "|---|---|\n",
       "| Margarida | Amarelo   |\n",
       "| Hortênsia | Azul      |\n",
       "| Violeta   | Azul      |\n",
       "| Rosa      | Vermelho  |\n",
       "\n"
      ],
      "text/plain": [
       "  Flor      Cor     \n",
       "1 Margarida Amarelo \n",
       "2 Hortênsia Azul    \n",
       "3 Violeta   Azul    \n",
       "4 Rosa      Vermelho"
      ]
     },
     "metadata": {},
     "output_type": "display_data"
    }
   ],
   "source": [
    "# Montando um Dataframe de Cores de Flores\n",
    "\n",
    "Flor = c(\"Margarida\", \"Hortênsia\", \"Violeta\", \"Rosa\")\n",
    "Cor = c(\"Amarelo\", \"Azul\", \"Azul\", \"Vermelho\")\n",
    "flores = data.frame(Flor, Cor)\n",
    "flores"
   ]
  },
  {
   "cell_type": "code",
   "execution_count": 2,
   "metadata": {},
   "outputs": [
    {
     "data": {
      "text/html": [
       "<table>\n",
       "<thead><tr><th></th><th scope=col>Flor</th><th scope=col>Cor</th></tr></thead>\n",
       "<tbody>\n",
       "\t<tr><th scope=row>2</th><td>Hortênsia</td><td>Azul     </td></tr>\n",
       "\t<tr><th scope=row>3</th><td>Violeta  </td><td>Azul     </td></tr>\n",
       "</tbody>\n",
       "</table>\n"
      ],
      "text/latex": [
       "\\begin{tabular}{r|ll}\n",
       "  & Flor & Cor\\\\\n",
       "\\hline\n",
       "\t2 & Hortênsia & Azul     \\\\\n",
       "\t3 & Violeta   & Azul     \\\\\n",
       "\\end{tabular}\n"
      ],
      "text/markdown": [
       "\n",
       "| <!--/--> | Flor | Cor |\n",
       "|---|---|---|\n",
       "| 2 | Hortênsia | Azul      |\n",
       "| 3 | Violeta   | Azul      |\n",
       "\n"
      ],
      "text/plain": [
       "  Flor      Cor \n",
       "2 Hortênsia Azul\n",
       "3 Violeta   Azul"
      ]
     },
     "metadata": {},
     "output_type": "display_data"
    }
   ],
   "source": [
    "# Mostrando as flores de cor Azul\n",
    "\n",
    "flores[flores$Cor == \"Azul\",]"
   ]
  },
  {
   "cell_type": "markdown",
   "metadata": {},
   "source": [
    "### Dados Quantitativos\n",
    "\n",
    "São tipos de dados **numéricos**, ou seja, são mensuráveis e podem ser manipulados matematicamente. Essa categoria engloba os dados representáveis por números, como a altura de uma pessoa ou a área de um terreno. Esses dados são mais versáteis, já que conseguimos fazer comparações, médias e outros tipos de operações aritméticas que não são possíveis com os dados qualitativos."
   ]
  },
  {
   "cell_type": "code",
   "execution_count": 3,
   "metadata": {},
   "outputs": [
    {
     "data": {
      "text/html": [
       "<table>\n",
       "<thead><tr><th scope=col>Nome</th><th scope=col>Altura</th></tr></thead>\n",
       "<tbody>\n",
       "\t<tr><td>Marcela  </td><td>161      </td></tr>\n",
       "\t<tr><td>Alexandre</td><td>184      </td></tr>\n",
       "\t<tr><td>Rafaela  </td><td>172      </td></tr>\n",
       "\t<tr><td>Mariana  </td><td>174      </td></tr>\n",
       "\t<tr><td>Victor   </td><td>169      </td></tr>\n",
       "</tbody>\n",
       "</table>\n"
      ],
      "text/latex": [
       "\\begin{tabular}{r|ll}\n",
       " Nome & Altura\\\\\n",
       "\\hline\n",
       "\t Marcela   & 161      \\\\\n",
       "\t Alexandre & 184      \\\\\n",
       "\t Rafaela   & 172      \\\\\n",
       "\t Mariana   & 174      \\\\\n",
       "\t Victor    & 169      \\\\\n",
       "\\end{tabular}\n"
      ],
      "text/markdown": [
       "\n",
       "| Nome | Altura |\n",
       "|---|---|\n",
       "| Marcela   | 161       |\n",
       "| Alexandre | 184       |\n",
       "| Rafaela   | 172       |\n",
       "| Mariana   | 174       |\n",
       "| Victor    | 169       |\n",
       "\n"
      ],
      "text/plain": [
       "  Nome      Altura\n",
       "1 Marcela   161   \n",
       "2 Alexandre 184   \n",
       "3 Rafaela   172   \n",
       "4 Mariana   174   \n",
       "5 Victor    169   "
      ]
     },
     "metadata": {},
     "output_type": "display_data"
    }
   ],
   "source": [
    "# Montando um Dataframe de Altura de Pessoas\n",
    "\n",
    "Nome = c(\"Marcela\", \"Alexandre\", \"Rafaela\", \"Mariana\", \"Victor\")\n",
    "Altura = c(161, 184, 172, 174, 169)\n",
    "alturas = data.frame(Nome, Altura)\n",
    "alturas"
   ]
  },
  {
   "cell_type": "code",
   "execution_count": 4,
   "metadata": {},
   "outputs": [
    {
     "data": {
      "text/html": [
       "<table>\n",
       "<thead><tr><th></th><th scope=col>Nome</th><th scope=col>Altura</th></tr></thead>\n",
       "<tbody>\n",
       "\t<tr><th scope=row>2</th><td>Alexandre</td><td>184      </td></tr>\n",
       "\t<tr><th scope=row>3</th><td>Rafaela  </td><td>172      </td></tr>\n",
       "\t<tr><th scope=row>4</th><td>Mariana  </td><td>174      </td></tr>\n",
       "</tbody>\n",
       "</table>\n"
      ],
      "text/latex": [
       "\\begin{tabular}{r|ll}\n",
       "  & Nome & Altura\\\\\n",
       "\\hline\n",
       "\t2 & Alexandre & 184      \\\\\n",
       "\t3 & Rafaela   & 172      \\\\\n",
       "\t4 & Mariana   & 174      \\\\\n",
       "\\end{tabular}\n"
      ],
      "text/markdown": [
       "\n",
       "| <!--/--> | Nome | Altura |\n",
       "|---|---|---|\n",
       "| 2 | Alexandre | 184       |\n",
       "| 3 | Rafaela   | 172       |\n",
       "| 4 | Mariana   | 174       |\n",
       "\n"
      ],
      "text/plain": [
       "  Nome      Altura\n",
       "2 Alexandre 184   \n",
       "3 Rafaela   172   \n",
       "4 Mariana   174   "
      ]
     },
     "metadata": {},
     "output_type": "display_data"
    }
   ],
   "source": [
    "# Selecionando as pessoas com altura maior que 170 cm\n",
    "\n",
    "alturas[alturas$Altura > 170,]"
   ]
  },
  {
   "cell_type": "markdown",
   "metadata": {},
   "source": [
    "## Estatística Descritiva\n",
    "\n",
    "O tipo de análise estatística mais básico é a **Estatística Descritiva**, que busca simplesmente resumir e descrever os nossos dados da melhor maneira possível. Esse ramo utiliza de diversas medidas para expressar características diferentes dos nossos dados, como veremos a seguir.\n",
    "\n",
    "### Dataset\n",
    "\n",
    "Antes de qualquer coisa, vamos explicar essas medidas usando o dataset 'mpg', nativo do R.\n",
    "\n",
    "O 'mpg' é uma base de dados que apresenta diversas informações relacionadas à economia de combustível de modelos de automóvel lançados de 1999 a 2008. Algumas das características dos carros que aparecem no dataset são: \n",
    "  - **Marca** ('manufacturer') \n",
    "  - **Modelo** ('model')\n",
    "  - **Ano de Lançamento** ('year')\n",
    "  - **Cilindradas** ('displ')\n",
    "  - **Quantidade de Cilindros** ('cyl')\n",
    "  - **Tipo de Combustível** ('fl') - 'diesel', 'gasolina', 'elétrico'...\n",
    "  - **Classe** ('class') - 'compacto', 'SUV', 'minivan'...\n",
    "  - **Consumo de Combustível na Cidade** ('cty') - em mpg\n",
    "  - **Consumo de Combustível na Estrada** ('hwy') - em mpg"
   ]
  },
  {
   "cell_type": "code",
   "execution_count": 1,
   "metadata": {},
   "outputs": [
    {
     "name": "stderr",
     "output_type": "stream",
     "text": [
      "Registered S3 methods overwritten by 'ggplot2':\n",
      "  method         from \n",
      "  [.quosures     rlang\n",
      "  c.quosures     rlang\n",
      "  print.quosures rlang\n"
     ]
    },
    {
     "data": {
      "text/html": [
       "<table>\n",
       "<thead><tr><th scope=col>manufacturer</th><th scope=col>model</th><th scope=col>year</th><th scope=col>displ</th><th scope=col>cyl</th><th scope=col>fl</th><th scope=col>class</th><th scope=col>cty</th><th scope=col>hwy</th></tr></thead>\n",
       "<tbody>\n",
       "\t<tr><td>audi    </td><td>a4      </td><td>1999    </td><td>1.8     </td><td>4       </td><td>p       </td><td>compact </td><td>7.652592</td><td>12.32918</td></tr>\n",
       "\t<tr><td>audi    </td><td>a4      </td><td>1999    </td><td>1.8     </td><td>4       </td><td>p       </td><td>compact </td><td>8.928024</td><td>12.32918</td></tr>\n",
       "\t<tr><td>audi    </td><td>a4      </td><td>2008    </td><td>2.0     </td><td>4       </td><td>p       </td><td>compact </td><td>8.502880</td><td>13.17946</td></tr>\n",
       "\t<tr><td>audi    </td><td>a4      </td><td>2008    </td><td>2.0     </td><td>4       </td><td>p       </td><td>compact </td><td>8.928024</td><td>12.75432</td></tr>\n",
       "\t<tr><td>audi    </td><td>a4      </td><td>1999    </td><td>2.8     </td><td>6       </td><td>p       </td><td>compact </td><td>6.802304</td><td>11.05374</td></tr>\n",
       "\t<tr><td>audi    </td><td>a4      </td><td>1999    </td><td>2.8     </td><td>6       </td><td>p       </td><td>compact </td><td>7.652592</td><td>11.05374</td></tr>\n",
       "</tbody>\n",
       "</table>\n"
      ],
      "text/latex": [
       "\\begin{tabular}{r|lllllllll}\n",
       " manufacturer & model & year & displ & cyl & fl & class & cty & hwy\\\\\n",
       "\\hline\n",
       "\t audi     & a4       & 1999     & 1.8      & 4        & p        & compact  & 7.652592 & 12.32918\\\\\n",
       "\t audi     & a4       & 1999     & 1.8      & 4        & p        & compact  & 8.928024 & 12.32918\\\\\n",
       "\t audi     & a4       & 2008     & 2.0      & 4        & p        & compact  & 8.502880 & 13.17946\\\\\n",
       "\t audi     & a4       & 2008     & 2.0      & 4        & p        & compact  & 8.928024 & 12.75432\\\\\n",
       "\t audi     & a4       & 1999     & 2.8      & 6        & p        & compact  & 6.802304 & 11.05374\\\\\n",
       "\t audi     & a4       & 1999     & 2.8      & 6        & p        & compact  & 7.652592 & 11.05374\\\\\n",
       "\\end{tabular}\n"
      ],
      "text/markdown": [
       "\n",
       "| manufacturer | model | year | displ | cyl | fl | class | cty | hwy |\n",
       "|---|---|---|---|---|---|---|---|---|\n",
       "| audi     | a4       | 1999     | 1.8      | 4        | p        | compact  | 7.652592 | 12.32918 |\n",
       "| audi     | a4       | 1999     | 1.8      | 4        | p        | compact  | 8.928024 | 12.32918 |\n",
       "| audi     | a4       | 2008     | 2.0      | 4        | p        | compact  | 8.502880 | 13.17946 |\n",
       "| audi     | a4       | 2008     | 2.0      | 4        | p        | compact  | 8.928024 | 12.75432 |\n",
       "| audi     | a4       | 1999     | 2.8      | 6        | p        | compact  | 6.802304 | 11.05374 |\n",
       "| audi     | a4       | 1999     | 2.8      | 6        | p        | compact  | 7.652592 | 11.05374 |\n",
       "\n"
      ],
      "text/plain": [
       "  manufacturer model year displ cyl fl class   cty      hwy     \n",
       "1 audi         a4    1999 1.8   4   p  compact 7.652592 12.32918\n",
       "2 audi         a4    1999 1.8   4   p  compact 8.928024 12.32918\n",
       "3 audi         a4    2008 2.0   4   p  compact 8.502880 13.17946\n",
       "4 audi         a4    2008 2.0   4   p  compact 8.928024 12.75432\n",
       "5 audi         a4    1999 2.8   6   p  compact 6.802304 11.05374\n",
       "6 audi         a4    1999 2.8   6   p  compact 7.652592 11.05374"
      ]
     },
     "metadata": {},
     "output_type": "display_data"
    }
   ],
   "source": [
    "# Para usar o dataset, precisamos importar a biblioteca ggplot2, que será melhor explicada na parte de Visualização de Dados.\n",
    "library(ggplot2)\n",
    "\n",
    "# Montando o dataset\n",
    "consumo = mpg\n",
    "\n",
    "# Selecionando e reordenando as colunas mais importantes\n",
    "consumo <- consumo[c(\"manufacturer\", \"model\", \"year\", \"displ\", \"cyl\", \"fl\", \"class\", \"cty\", \"hwy\")]\n",
    "\n",
    "# Conversão de milhas por galão de combustível para quilometros por litro\n",
    "consumo$cty <- consumo$cty * 0.425144\n",
    "consumo$hwy <- consumo$hwy * 0.425144\n",
    "\n",
    "# Apresentando o dataset\n",
    "head(consumo)"
   ]
  },
  {
   "cell_type": "markdown",
   "metadata": {},
   "source": [
    "### Medidas de Tendência Central\n",
    "\n",
    "As **Medidas de Tendência Central** procuram representrar um valor central em torno do qual os dados se agrupam. Você provavelmente já ouviu falar de alguns exemplos desse tipo de medida, como a **média** e a **mediana**.\n",
    "\n",
    "#### Média\n",
    "\n",
    "A **Média** é a medida numérica que representa a posição central dos nossos dados. Seu valor é obtido ao dividir a soma de todos os nossos dados pela sua quantidade.\n",
    "\n",
    "$$\\large \\bar x ={\\frac {1}{N}}\\sum _{i=1}^{N}x_{i}$$"
   ]
  },
  {
   "cell_type": "code",
   "execution_count": 6,
   "metadata": {},
   "outputs": [
    {
     "data": {
      "text/html": [
       "7.87766823529412"
      ],
      "text/latex": [
       "7.87766823529412"
      ],
      "text/markdown": [
       "7.87766823529412"
      ],
      "text/plain": [
       "[1] 7.877668"
      ]
     },
     "metadata": {},
     "output_type": "display_data"
    }
   ],
   "source": [
    "# Média do consumo dos automóveis da Toyota\n",
    "\n",
    "mean(consumo$cty[consumo$manufacturer == \"toyota\"])"
   ]
  },
  {
   "cell_type": "code",
   "execution_count": 7,
   "metadata": {},
   "outputs": [
    {
     "name": "stdout",
     "output_type": "stream",
     "text": [
      "5.952016  <  8.896532"
     ]
    }
   ],
   "source": [
    "# Média do consumo dos automóveis da Ford e da Volkswagen\n",
    "\n",
    "media_a = mean(consumo$cty[consumo$manufacturer == \"ford\"])\n",
    "media_b = mean(consumo$cty[consumo$manufacturer == \"volkswagen\"])\n",
    "\n",
    "# A eficiência dos carros da Ford é, em média, bem inferior aos da Volkswagen\n",
    "\n",
    "cat(media_a, \" < \", media_b)"
   ]
  },
  {
   "cell_type": "code",
   "execution_count": 8,
   "metadata": {},
   "outputs": [
    {
     "name": "stderr",
     "output_type": "stream",
     "text": [
      "Warning message in mean.default(consumo$manufacturer):\n",
      "\"argument is not numeric or logical: returning NA\""
     ]
    },
    {
     "data": {
      "text/html": [
       "&lt;NA&gt;"
      ],
      "text/latex": [
       "<NA>"
      ],
      "text/markdown": [
       "&lt;NA&gt;"
      ],
      "text/plain": [
       "[1] NA"
      ]
     },
     "metadata": {},
     "output_type": "display_data"
    }
   ],
   "source": [
    "# Não é possível calcular a média de dados qualitativos\n",
    "\n",
    "mean(consumo$manufacturer)"
   ]
  },
  {
   "cell_type": "markdown",
   "metadata": {},
   "source": [
    "#### Mediana\n",
    "\n",
    "A **Mediana** é a medida numérica que representa o dado que se encontra na metade da nossa distribuição quanto esta se encontra ordenada. Ou seja, a mediana é o valor que divide os nossos dados de tal forma que metade deles sejam maiores que a mediana e a outra metade seja menor."
   ]
  },
  {
   "cell_type": "code",
   "execution_count": 9,
   "metadata": {},
   "outputs": [
    {
     "data": {
      "text/html": [
       "7.865164"
      ],
      "text/latex": [
       "7.865164"
      ],
      "text/markdown": [
       "7.865164"
      ],
      "text/plain": [
       "[1] 7.865164"
      ]
     },
     "metadata": {},
     "output_type": "display_data"
    }
   ],
   "source": [
    "# Mediana do consumo dos automóveis da Hyundai\n",
    "\n",
    "median(consumo$cty[consumo$manufacturer == \"hyundai\"])"
   ]
  },
  {
   "cell_type": "code",
   "execution_count": 10,
   "metadata": {},
   "outputs": [
    {
     "name": "stderr",
     "output_type": "stream",
     "text": [
      "Warning message in mean.default(sort(x, partial = half + 0L:1L)[half + 0L:1L]):\n",
      "\"argument is not numeric or logical: returning NA\""
     ]
    },
    {
     "data": {
      "text/html": [
       "&lt;NA&gt;"
      ],
      "text/latex": [
       "<NA>"
      ],
      "text/markdown": [
       "&lt;NA&gt;"
      ],
      "text/plain": [
       "[1] NA"
      ]
     },
     "metadata": {},
     "output_type": "display_data"
    }
   ],
   "source": [
    "# Não é possível calcular a mediana de dados qualitativos\n",
    "\n",
    "median(consumo$manufacturer)"
   ]
  },
  {
   "cell_type": "markdown",
   "metadata": {},
   "source": [
    "#### Percentil\n",
    "\n",
    "O **Percentil** não é uma medida de tendência central, mas se relaciona bastante com a Mediana. Os percentis são medidas que dividem as nossas amostras tal que **p%** delas sejam menores que o percentil. O **50º percentil**, portanto, é a nossa já conhecida mediana, enquanto o **25º percentil** é denominado primeiro quartil."
   ]
  },
  {
   "cell_type": "code",
   "execution_count": 11,
   "metadata": {},
   "outputs": [
    {
     "data": {
      "text/html": [
       "<table>\n",
       "<thead><tr><th scope=col>0%</th><th scope=col>25%</th><th scope=col>50%</th><th scope=col>75%</th><th scope=col>100%</th></tr></thead>\n",
       "<tbody>\n",
       "\t<tr><td>3.826296</td><td>5.952016</td><td>7.227448</td><td>8.077736</td><td>14.88004</td></tr>\n",
       "</tbody>\n",
       "</table>\n"
      ],
      "text/latex": [
       "\\begin{tabular}{lllll}\n",
       " 0\\% & 25\\% & 50\\% & 75\\% & 100\\%\\\\\n",
       "\\hline\n",
       "\t 3.826296 & 5.952016 & 7.227448 & 8.077736 & 14.88004\\\\\n",
       "\\end{tabular}\n"
      ],
      "text/markdown": [
       "\n",
       "| 0% | 25% | 50% | 75% | 100% |\n",
       "|---|---|---|---|---|\n",
       "| 3.826296 | 5.952016 | 7.227448 | 8.077736 | 14.88004 |\n",
       "\n"
      ],
      "text/plain": [
       "     0%       25%      50%      75%      100%    \n",
       "[1,] 3.826296 5.952016 7.227448 8.077736 14.88004"
      ]
     },
     "metadata": {},
     "output_type": "display_data"
    }
   ],
   "source": [
    "# Obtendo os quartis do consumo de todos os automóveis\n",
    "\n",
    "quartis = quantile(consumo$cty)\n",
    "\n",
    "# Transpondo o resultado para ficar mais visualizável\n",
    "t(quartis)"
   ]
  },
  {
   "cell_type": "code",
   "execution_count": 12,
   "metadata": {},
   "outputs": [
    {
     "data": {
      "text/html": [
       "<table>\n",
       "<thead><tr><th scope=col>30%</th><th scope=col>60%</th><th scope=col>90%</th></tr></thead>\n",
       "<tbody>\n",
       "\t<tr><td>5.101728</td><td>5.952016</td><td>7.184934</td></tr>\n",
       "</tbody>\n",
       "</table>\n"
      ],
      "text/latex": [
       "\\begin{tabular}{lll}\n",
       " 30\\% & 60\\% & 90\\%\\\\\n",
       "\\hline\n",
       "\t 5.101728 & 5.952016 & 7.184934\\\\\n",
       "\\end{tabular}\n"
      ],
      "text/markdown": [
       "\n",
       "| 30% | 60% | 90% |\n",
       "|---|---|---|\n",
       "| 5.101728 | 5.952016 | 7.184934 |\n",
       "\n"
      ],
      "text/plain": [
       "     30%      60%      90%     \n",
       "[1,] 5.101728 5.952016 7.184934"
      ]
     },
     "metadata": {},
     "output_type": "display_data"
    }
   ],
   "source": [
    "# Obtendo os percentis 30%, 60% e 90% do consumo dos automóveis SUV\n",
    "\n",
    "percentis = quantile(consumo$cty[consumo$class == \"suv\"], c(.30, .60, .90))\n",
    "\n",
    "# Transpondo o resultado para ficar mais visualizável\n",
    "t(percentis)"
   ]
  },
  {
   "cell_type": "markdown",
   "metadata": {},
   "source": [
    "#### Summary\n",
    "\n",
    "Uma maneira bem simples de mostrar vários dos valores que vimos até agora é utilizando a função ```summary()```. Ela nos apresenta o *mínimo*, o *1º quartil*, a *mediana*, a *média*, o *3º quartil* e o *máximo* da variável em questão, da seguinte forma:"
   ]
  },
  {
   "cell_type": "code",
   "execution_count": 2,
   "metadata": {},
   "outputs": [
    {
     "data": {
      "text/plain": [
       "   Min. 1st Qu.  Median    Mean 3rd Qu.    Max. \n",
       "  3.826   5.952   7.227   7.167   8.078  14.880 "
      ]
     },
     "metadata": {},
     "output_type": "display_data"
    }
   ],
   "source": [
    "# Resumo do consumo de combustível de todos os automóveis\n",
    "\n",
    "summary(consumo$cty)"
   ]
  },
  {
   "cell_type": "markdown",
   "metadata": {},
   "source": [
    "### Medidas de Variação\n",
    "\n",
    "As **Medidas de Variação** medem o *grau de afastamento* dos dados em torno de um valor central. Elas são importantes para medir a homogeneidade dos dados, indicando se nossas amostras estão próximas entre si ou muito afastadas.\n",
    "\n",
    "#### Amplitude\n",
    "\n",
    "A medida mais simples de variação é a **Amplitude**, que mede simplesmente a diferença entre a maior e a menor amostra. Entretanto, essa medida é bem sensível outliers em suas extremidades.\n",
    "\n",
    "$$ \\large A =  x_{max} - x_{min} $$"
   ]
  },
  {
   "cell_type": "code",
   "execution_count": 13,
   "metadata": {},
   "outputs": [
    {
     "data": {
      "text/html": [
       "3.401152"
      ],
      "text/latex": [
       "3.401152"
      ],
      "text/markdown": [
       "3.401152"
      ],
      "text/plain": [
       "[1] 3.401152"
      ]
     },
     "metadata": {},
     "output_type": "display_data"
    }
   ],
   "source": [
    "# Calculando a amplitude do consumo de combustível das pickups\n",
    "\n",
    "amplitude = max(consumo$cty[consumo$class == \"pickup\"]) - min(consumo$cty[consumo$class == \"pickup\"])\n",
    "\n",
    "amplitude"
   ]
  },
  {
   "cell_type": "markdown",
   "metadata": {},
   "source": [
    "#### Amplitude Interquartil\n",
    "\n",
    "Uma outra medida de variação mais precisa é a **Amplitude Interquartil**, definida como a diferença entre o 3º e o 1º quartil. Por desprezar os valores mais extremos, essa medida é menos sujeita a flutuações que a amplitude normal."
   ]
  },
  {
   "cell_type": "code",
   "execution_count": 14,
   "metadata": {},
   "outputs": [
    {
     "data": {
      "text/html": [
       "1.275432"
      ],
      "text/latex": [
       "1.275432"
      ],
      "text/markdown": [
       "1.275432"
      ],
      "text/plain": [
       "[1] 1.275432"
      ]
     },
     "metadata": {},
     "output_type": "display_data"
    }
   ],
   "source": [
    "# Calculando a amplitude interquartil do consumo de combustível das pickups\n",
    "\n",
    "IQR(consumo$cty[consumo$class == \"pickup\"])"
   ]
  },
  {
   "cell_type": "markdown",
   "metadata": {},
   "source": [
    "#### Box Plot\n",
    "\n",
    "O **Box Plot** é uma representação gráfica das nossas amostras que se aproveita dos conceitos de quartis. Esse gráfico apresenta um quadro entre o 1º e o 3º quartil, com uma linha central na mediana e extremidades nos valores máximo e mínimo dos dados, da seguinte forma:\n",
    "\n",
    "<img src=\"img/boxplot.png\" alt=\"Box Plot\" style=\"width: 300px;\"/>\n",
    "\n",
    "Essa representação é bem relevante para entender a **simetria** das nossas amostras, bem como sua dispersão."
   ]
  },
  {
   "cell_type": "code",
   "execution_count": 24,
   "metadata": {},
   "outputs": [
    {
     "data": {
      "image/png": "[encoded data removed]",
      "text/plain": [
       "plot without title"
      ]
     },
     "metadata": {},
     "output_type": "display_data"
    }
   ],
   "source": [
    "# Aprensentando o Box Plot do consumo de combustível dos automóveis da Dodge\n",
    "\n",
    "boxplot(consumo$cty[consumo$manufacturer == \"dodge\"], horizontal=TRUE, \n",
    "        xlab= \"Quilômetros por Litro\", ylab=\"Dodge\")"
   ]
  },
  {
   "cell_type": "code",
   "execution_count": 19,
   "metadata": {},
   "outputs": [
    {
     "data": {
      "image/png": "[encoded data removed]",
      "text/plain": [
       "Plot with title \"Consumo de Combustível por Tipo de Automóvel\""
      ]
     },
     "metadata": {},
     "output_type": "display_data"
    }
   ],
   "source": [
    "# Box Plot comparando o consumo de cada tipo de automóvel\n",
    "\n",
    "# Estabelecendo as margens do gráfico, para facilitar a visualização\n",
    "par(mar=c(7,5,1,1))\n",
    "\n",
    "boxplot(cty~class,data=consumo, main=\"Consumo de Combustível por Tipo de Automóvel\", las=2, \n",
    "   xlab=\"\", ylab=\"Quilômetros por Litro\")"
   ]
  },
  {
   "cell_type": "markdown",
   "metadata": {},
   "source": [
    "As pickups e os SUVs são os carros com menor eficiência de combustível."
   ]
  },
  {
   "cell_type": "markdown",
   "metadata": {},
   "source": [
    "#### Variância\n",
    "\n",
    "A **Variância** é uma medida de variação que mensura a dispersão das amostras com relação à média.\n",
    "\n",
    "Seu valor é obtido a partir do cálculo da média do quadrado das diferenças entre os dados e a média, da seguinte forma:\n",
    "<br>\n",
    "<br>\n",
    "\n",
    "$$\\large s^2 = {\\frac{\\sum_{i=1}^{N}(x_{i} -\\bar{x})^2}{N-1}}$$"
   ]
  },
  {
   "cell_type": "code",
   "execution_count": 17,
   "metadata": {},
   "outputs": [
    {
     "data": {
      "text/html": [
       "1.67300412398439"
      ],
      "text/latex": [
       "1.67300412398439"
      ],
      "text/markdown": [
       "1.67300412398439"
      ],
      "text/plain": [
       "[1] 1.673004"
      ]
     },
     "metadata": {},
     "output_type": "display_data"
    }
   ],
   "source": [
    "# Calculando a variância do consumo dos carros movidos a gasolina\n",
    "\n",
    "var(consumo$cty[consumo$fl == \"p\"])"
   ]
  },
  {
   "cell_type": "markdown",
   "metadata": {},
   "source": [
    "#### Desvio Padrão\n",
    "\n",
    "O **Desvio Padrão** é uma outra medida de variação obtida simplesmente pela raiz quadrada da variância. Essa raiz é feita para que a unidade de medida seja a mesma dos nossos dados.\n",
    "<br>\n",
    "<br>\n",
    "\n",
    "$$\\large s = \\sqrt{\\frac{\\sum_{i=1}^{N}(x_{i} -\\bar{x})^2}{N-1}}$$"
   ]
  },
  {
   "cell_type": "code",
   "execution_count": 18,
   "metadata": {},
   "outputs": [
    {
     "data": {
      "text/html": [
       "1.29344660654562"
      ],
      "text/latex": [
       "1.29344660654562"
      ],
      "text/markdown": [
       "1.29344660654562"
      ],
      "text/plain": [
       "[1] 1.293447"
      ]
     },
     "metadata": {},
     "output_type": "display_data"
    }
   ],
   "source": [
    "# Calculando o desvio padrão do consumo dos carros movidos a gasolina\n",
    "\n",
    "sd(consumo$cty[consumo$fl == \"p\"])"
   ]
  },
  {
   "cell_type": "markdown",
   "metadata": {},
   "source": [
    "#### Covariância\n",
    "\n",
    "A **Covariância** é a medida da *relação linear* entre duas variáveis: seu valor representa o quanto elas \"caminham juntas\". Se a covarância é positiva, significa que as duas crescem juntas; se a covariância é negativa, significa que conforme uma cresce, a outra decresce.\n",
    "\n",
    "Seu valor é obtido da seguinte forma:\n",
    "<br>\n",
    "\n",
    "$$\\large s_{x,y}=\\frac{\\sum_{i=1}^{N}(x_{i}-\\bar{x})(y_{i}-\\bar{y})}{N-1}$$"
   ]
  },
  {
   "cell_type": "code",
   "execution_count": 19,
   "metadata": {},
   "outputs": [
    {
     "data": {
      "text/html": [
       "-1.86667550795642"
      ],
      "text/latex": [
       "-1.86667550795642"
      ],
      "text/markdown": [
       "-1.86667550795642"
      ],
      "text/plain": [
       "[1] -1.866676"
      ]
     },
     "metadata": {},
     "output_type": "display_data"
    }
   ],
   "source": [
    "# Calculando a covarância entre as cilindradas e o consumo de combustível\n",
    "\n",
    "cov(consumo$displ, consumo$cty)"
   ]
  },
  {
   "cell_type": "markdown",
   "metadata": {},
   "source": [
    "A covariância negativa significa que quanto maiores as cilindradas, menor será a eficiência do carro"
   ]
  },
  {
   "cell_type": "markdown",
   "metadata": {},
   "source": [
    "#### Coeficiente de Correlação\n",
    "\n",
    "O **Coeficiente de Correlação** também mede a relação linear entre duas variáveis, mas é obtida a partir da divisão da covariância pelos desvios padrões individuais de cada variável. Dessa forma, encontramos uma medida **normalizada** da relação entre as duas. \n",
    "<br>\n",
    "<br>\n",
    "\n",
    "$$\\large r_{x,y}= \\frac{s_{x,y}}{s_{x} s_{y}}$$\n",
    "\n",
    "Quanto mais próximo de 1, maior a _relação linear positiva_ entre as duas variáveis, e seu gráfico se aproxima de uma linha reta _crescente_. Quanto mais próximo de -1, maior a _relação linear negativa_ entre as duas variáveis, e seu gráfico se aproxima de uma linha reta _decrescente_. Quando seu valor é próximo de 0, não existe uma relação muito grande entre as duas variáveis."
   ]
  },
  {
   "cell_type": "code",
   "execution_count": 20,
   "metadata": {},
   "outputs": [
    {
     "data": {
      "text/html": [
       "-0.798523968934855"
      ],
      "text/latex": [
       "-0.798523968934855"
      ],
      "text/markdown": [
       "-0.798523968934855"
      ],
      "text/plain": [
       "[1] -0.798524"
      ]
     },
     "metadata": {},
     "output_type": "display_data"
    }
   ],
   "source": [
    "# Calculando o coeficiente de correlação entre as cilindradas e o consumo de combustível\n",
    "\n",
    "cor(consumo$displ, consumo$cty)"
   ]
  },
  {
   "cell_type": "markdown",
   "metadata": {},
   "source": [
    "O consumo de combustível tem uma relação linear negativa bem forte com as cilindradas."
   ]
  }
 ],
 "metadata": {
  "kernelspec": {
   "display_name": "R",
   "language": "R",
   "name": "ir"
  },
  "language_info": {
   "codemirror_mode": "r",
   "file_extension": ".r",
   "mimetype": "text/x-r-source",
   "name": "R",
   "pygments_lexer": "r",
   "version": "3.6.1"
  }
 },
 "nbformat": 4,
 "nbformat_minor": 4
}
