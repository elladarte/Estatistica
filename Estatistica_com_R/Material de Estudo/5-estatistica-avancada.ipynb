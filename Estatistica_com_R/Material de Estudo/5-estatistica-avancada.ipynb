{
 "cells": [
  {
   "cell_type": "code",
   "execution_count": 3,
   "metadata": {},
   "outputs": [
    {
     "name": "stderr",
     "output_type": "stream",
     "text": [
      "\n",
      "Attaching package: ‘dplyr’\n",
      "\n",
      "\n",
      "The following objects are masked from ‘package:stats’:\n",
      "\n",
      "    filter, lag\n",
      "\n",
      "\n",
      "The following objects are masked from ‘package:base’:\n",
      "\n",
      "    intersect, setdiff, setequal, union\n",
      "\n",
      "\n"
     ]
    }
   ],
   "source": [
    "library(\"ggplot2\")\n",
    "library(\"dplyr\")"
   ]
  },
  {
   "cell_type": "code",
   "execution_count": 5,
   "metadata": {},
   "outputs": [],
   "source": [
    "adult <- read.csv(\"dados/adult.csv\")"
   ]
  },
  {
   "cell_type": "markdown",
   "metadata": {},
   "source": [
    "# Testes de Hipótese"
   ]
  },
  {
   "cell_type": "markdown",
   "metadata": {},
   "source": [
    "Muitas vezes, quando estamos fazendo alguma análise, queremos provar que **duas médias são diferentes**. <br>\n",
    "Por exemplo, temos dois grupos de pacientes, um que tomou analgésico e outro que tomou um placebo, e queremos saber se existe diferença na nota que eles atribuem para sua dor antes e depois de tomar o remédio/placebo. <br>\n",
    "<br>\n",
    "Esse é o típico cenário em que devemos aplicar um **teste de hipótese**."
   ]
  },
  {
   "cell_type": "markdown",
   "metadata": {},
   "source": [
    "### Amostra vs População"
   ]
  },
  {
   "cell_type": "markdown",
   "metadata": {},
   "source": [
    "![censovssample](img/census-vs-sample.jpg)\n",
    "Os testes de hipótese precisam ser feitos porque, muitas vezes, nós não temos a totalidade dos dados e sim uma **amostra**.\n",
    "<br> <br>\n",
    "Existem teoremas matemáticos que garantem que as médias tiradas de amostras aleatorias de uma população convergem para a própria média da população.\n",
    "Mas pode ser que, por acaso, vc tenha pegado uma amostra extrema que não representa essa população - **os testes de hipótese são uma forma de verificar qual é essa probabilidade e se ela é considerável**."
   ]
  },
  {
   "cell_type": "markdown",
   "metadata": {},
   "source": [
    "### Hipóteses e p-valor\n",
    "\n",
    "Existem teoremas matemáticos que garantem que as médias tiradas de amostras aleatorias de uma população convergem para a própria média da população.\n",
    "Mas pode ser que, por acaso, vc tenha pegado uma amostra extrema que não representa essa população - **os testes de hipótese são uma forma de verificar qual é essa probabilidade e se ela é considerável**.\n",
    "Os **testes de hipóteses** têm uma estrutura comum. Eles assumem uma *hipótese nula* e uma *hipótese alternativa*.<br>\n",
    "Em geral: <br>\n",
    "$H_0 =$ (hipótese nula) as médias são iguais <br>\n",
    "$H_A =$ (hipótese alternativa) as médias são diferentes (você pode mudar isso para \"maior\" ou \"menor\" também\n",
    "<br>\n",
    "O que o teste de hipótese nos retorna é o **p-valor**, ele nos dá **a probabilidade de encontrar uma amostra igual ou mais extrema do que a que obtemos dada a hipótese nula** <br>\n",
    "Em geral, quando o $p-valor \\leq 0.05$ aceitamos $H_A$\n",
    "\n",
    "\\begin{equation}\n",
    "p-valor = p(estatistica-teste \\geq estatística-teste_{encontrada} \\mid H_0)\n",
    "\\end{equation}\n",
    "<br>\n",
    "\n",
    "![erros](img/pvalue.png)"
   ]
  },
  {
   "cell_type": "markdown",
   "metadata": {},
   "source": [
    "### Testes paramétricos VS não-paramétricos"
   ]
  },
  {
   "cell_type": "markdown",
   "metadata": {},
   "source": [
    "![distribuicaonormal](img/normal.jpeg)"
   ]
  },
  {
   "cell_type": "markdown",
   "metadata": {},
   "source": [
    "Os testes de hipótese podem ser divididos entre paramétricos e não paramétricos.\n",
    "<br>\n",
    "Os testes **paramétricos** assumem a **distribuição normal dos dados**, enquanto os **não paramétricos** não possuem tal premissa.<br>\n",
    "A distribuição normal é a famosa curva de sino, em que a maioria dos valores estão próximos de uma média."
   ]
  },
  {
   "cell_type": "markdown",
   "metadata": {},
   "source": [
    "## Kolgomorov-Smirnov"
   ]
  },
  {
   "cell_type": "markdown",
   "metadata": {},
   "source": [
    "Para saber se devemos ou não aplicar um teste paramétrico ou não paramétrico, precisamos saber se nossos dados seguem ou não uma distribuição normal. Para isso usamos o teste de *Kolgomorov-Smirnov* comparando a nossa amostra com uma distribuição normal."
   ]
  },
  {
   "cell_type": "markdown",
   "metadata": {},
   "source": [
    "Nesse teste, as hipóteses são as seguintes:<br>\n",
    "$H_0 = $ a distribuição é normal <br>\n",
    "$H_A = $ a distribuição não é normal"
   ]
  },
  {
   "cell_type": "markdown",
   "metadata": {},
   "source": [
    "Vamos fazer esse teste largura da sépala das flores da espécie iris"
   ]
  },
  {
   "cell_type": "code",
   "execution_count": 5,
   "metadata": {},
   "outputs": [
    {
     "name": "stderr",
     "output_type": "stream",
     "text": [
      "Warning message in ks.test(iris$Sepal.Width, \"pnorm\", mean(iris$Sepal.Width), sd(iris$Sepal.Width)):\n",
      "“ties should not be present for the Kolmogorov-Smirnov test”\n"
     ]
    },
    {
     "data": {
      "text/plain": [
       "\n",
       "\tOne-sample Kolmogorov-Smirnov test\n",
       "\n",
       "data:  iris$Sepal.Width\n",
       "D = 0.10566, p-value = 0.07023\n",
       "alternative hypothesis: two-sided\n"
      ]
     },
     "metadata": {},
     "output_type": "display_data"
    }
   ],
   "source": [
    "ks.test(iris$Sepal.Width,\"pnorm\", mean(iris$Sepal.Width), sd(iris$Sepal.Width))"
   ]
  },
  {
   "cell_type": "markdown",
   "metadata": {},
   "source": [
    "Nosso $p_{valor}$ deu 7%, então podemos considerar a distribuição normal"
   ]
  },
  {
   "cell_type": "markdown",
   "metadata": {},
   "source": [
    "Vamos ver agora se isso se mantém para as sub-espécies das flores iris"
   ]
  },
  {
   "cell_type": "code",
   "execution_count": 6,
   "metadata": {},
   "outputs": [
    {
     "data": {
      "text/html": [
       "<style>\n",
       ".list-inline {list-style: none; margin:0; padding: 0}\n",
       ".list-inline>li {display: inline-block}\n",
       ".list-inline>li:not(:last-child)::after {content: \"\\00b7\"; padding: 0 .5ex}\n",
       "</style>\n",
       "<ol class=list-inline><li>'setosa'</li><li>'versicolor'</li><li>'virginica'</li></ol>\n"
      ],
      "text/latex": [
       "\\begin{enumerate*}\n",
       "\\item 'setosa'\n",
       "\\item 'versicolor'\n",
       "\\item 'virginica'\n",
       "\\end{enumerate*}\n"
      ],
      "text/markdown": [
       "1. 'setosa'\n",
       "2. 'versicolor'\n",
       "3. 'virginica'\n",
       "\n",
       "\n"
      ],
      "text/plain": [
       "[1] \"setosa\"     \"versicolor\" \"virginica\" "
      ]
     },
     "metadata": {},
     "output_type": "display_data"
    }
   ],
   "source": [
    "levels(iris$Species)"
   ]
  },
  {
   "cell_type": "code",
   "execution_count": 7,
   "metadata": {},
   "outputs": [],
   "source": [
    "iris_setosa <- iris %>% filter(Species == \"setosa\")\n",
    "iris_versicolor <- iris %>% filter(Species == \"versicolor\")\n",
    "iris_virginica <- iris %>% filter(Species == \"virginica\")"
   ]
  },
  {
   "cell_type": "code",
   "execution_count": 11,
   "metadata": {},
   "outputs": [
    {
     "name": "stderr",
     "output_type": "stream",
     "text": [
      "Warning message in ks.test(iris_setosa$Sepal.Width, \"pnorm\", mean(iris_setosa$Sepal.Width), :\n",
      "“ties should not be present for the Kolmogorov-Smirnov test”\n",
      "Warning message in ks.test(iris_versicolor$Sepal.Width, \"pnorm\", mean(iris_versicolor$Sepal.Width), :\n",
      "“ties should not be present for the Kolmogorov-Smirnov test”\n",
      "Warning message in ks.test(iris_virginica$Sepal.Width, \"pnorm\", mean(iris_virginica$Sepal.Width), :\n",
      "“ties should not be present for the Kolmogorov-Smirnov test”\n"
     ]
    },
    {
     "name": "stdout",
     "output_type": "stream",
     "text": [
      "[1] \"P-valor iris setosa =  0.643712515886468  | P-valor iris versicolor =  0.460425126089097 | P-valor iris virginica =  0.386975907628897\"\n"
     ]
    }
   ],
   "source": [
    "ks_setosa <- ks.test(iris_setosa$Sepal.Width,\"pnorm\", mean(iris_setosa$Sepal.Width), sd(iris_setosa$Sepal.Width))\n",
    "ks_versicolor <- ks.test(iris_versicolor$Sepal.Width,\"pnorm\", mean(iris_versicolor$Sepal.Width), sd(iris_versicolor$Sepal.Width))\n",
    "ks_virginica <- ks.test(iris_virginica$Sepal.Width,\"pnorm\", mean(iris_virginica$Sepal.Width), sd(iris_virginica$Sepal.Width))\n",
    "print(paste(\"P-valor iris setosa = \",ks_setosa$p.value,\" | P-valor iris versicolor = \",ks_versicolor$p.value,\"| P-valor iris virginica = \", ks_virginica$p.value ))"
   ]
  },
  {
   "cell_type": "markdown",
   "metadata": {},
   "source": [
    "Os valores p foram ainda mais altos, podemos assumir premissas paramétricas"
   ]
  },
  {
   "cell_type": "markdown",
   "metadata": {},
   "source": [
    "## Paramétricos - Teste t, teste z e ANOVA"
   ]
  },
  {
   "cell_type": "markdown",
   "metadata": {},
   "source": [
    "Existem dois testes mais conhecidos para comparar médias, o teste T e o teste Z. O teste Z é mais usado para comparar uma média amostral com uma média teórica, apesar de poder ser usado para comparar duas médias amostrais também. <br>\n",
    "O teste Z não é nativo do R, mas aceitando-se $H_A$ de teste T = também aceitaria-se ela via teste Z"
   ]
  },
  {
   "cell_type": "markdown",
   "metadata": {},
   "source": [
    "#### Teste T - Comparar as flores iris setosa e iris virginica"
   ]
  },
  {
   "cell_type": "markdown",
   "metadata": {},
   "source": [
    "Vamos aqui aplicar um teste que compara as médias, o teste t. A hipótese nula é de que as médias são iguais e a alternativa é de que são diferentes. <br>\n",
    "Esse teste precisa saber se as variâncias são iguais ou diferentes. Pra isso vamos aplicar um teste chamado teste F. <br>\n",
    "Para o teste  F, a hipótese nula é de que as variâncias são diferentes."
   ]
  },
  {
   "cell_type": "code",
   "execution_count": 12,
   "metadata": {},
   "outputs": [],
   "source": [
    "f_test <- var.test(iris_setosa$Sepal.Width,iris_virginica$Sepal.Width)"
   ]
  },
  {
   "cell_type": "code",
   "execution_count": 13,
   "metadata": {},
   "outputs": [
    {
     "data": {
      "text/html": [
       "0.261389316614015"
      ],
      "text/latex": [
       "0.261389316614015"
      ],
      "text/markdown": [
       "0.261389316614015"
      ],
      "text/plain": [
       "[1] 0.2613893"
      ]
     },
     "metadata": {},
     "output_type": "display_data"
    }
   ],
   "source": [
    "f_test$p.value"
   ]
  },
  {
   "cell_type": "markdown",
   "metadata": {},
   "source": [
    "Aqui, podemos ver que as variâncias podem ser consideradas iguais"
   ]
  },
  {
   "cell_type": "code",
   "execution_count": 14,
   "metadata": {},
   "outputs": [
    {
     "data": {
      "text/plain": [
       "\n",
       "\tTwo Sample t-test\n",
       "\n",
       "data:  iris_setosa$Sepal.Width and iris_virginica$Sepal.Width\n",
       "t = 6.4503, df = 98, p-value = 4.246e-09\n",
       "alternative hypothesis: true difference in means is not equal to 0\n",
       "95 percent confidence interval:\n",
       " 0.3143257 0.5936743\n",
       "sample estimates:\n",
       "mean of x mean of y \n",
       "    3.428     2.974 \n"
      ]
     },
     "metadata": {},
     "output_type": "display_data"
    }
   ],
   "source": [
    "t.test(iris_setosa$Sepal.Width, iris_virginica$Sepal.Width, var.equal = TRUE)"
   ]
  },
  {
   "cell_type": "markdown",
   "metadata": {},
   "source": [
    "O nosso $p_{valor} \\leq 5%$, podemos assumir que as médias sejam diferentes"
   ]
  },
  {
   "cell_type": "markdown",
   "metadata": {},
   "source": [
    "#### Importante: \n",
    "Quando as amostras são **dependentes**, por exemplo, consumo de doces de pessoas antes e depois de uma dieta, dizemos que os dois número são **pareados**.\n",
    "Nesse caso o arumento `paired` do `t.test` deve ser `TRUE`."
   ]
  },
  {
   "cell_type": "markdown",
   "metadata": {},
   "source": [
    "#### Comparando as três médias das flores"
   ]
  },
  {
   "cell_type": "markdown",
   "metadata": {},
   "source": [
    "Para comparar três ou mais médias, utilizaremos um teste de hipóteses chamado ANOVA (Análise de variância) de um fator"
   ]
  },
  {
   "cell_type": "markdown",
   "metadata": {},
   "source": [
    "Aqui, a $H_A$ é que *alguma das médias é diferentes da outras*"
   ]
  },
  {
   "cell_type": "code",
   "execution_count": 4,
   "metadata": {},
   "outputs": [],
   "source": [
    "anova <- aov(Sepal.Width ~ Species, data=iris)"
   ]
  },
  {
   "cell_type": "code",
   "execution_count": 5,
   "metadata": {},
   "outputs": [
    {
     "data": {
      "text/plain": [
       "             Df Sum Sq Mean Sq F value Pr(>F)    \n",
       "Species       2  11.35   5.672   49.16 <2e-16 ***\n",
       "Residuals   147  16.96   0.115                   \n",
       "---\n",
       "Signif. codes:  0 ‘***’ 0.001 ‘**’ 0.01 ‘*’ 0.05 ‘.’ 0.1 ‘ ’ 1"
      ]
     },
     "metadata": {},
     "output_type": "display_data"
    }
   ],
   "source": [
    "summary(anova)"
   ]
  },
  {
   "cell_type": "markdown",
   "metadata": {},
   "source": [
    "Temos que `Pr(>F)` é o nosso valor P, ele é bem baixo, então alguma das médias é diferente das outras."
   ]
  },
  {
   "cell_type": "markdown",
   "metadata": {},
   "source": [
    "## Não paramétricos - Wilcoxon-Mann-Whitney e Kruskal-Wallis"
   ]
  },
  {
   "cell_type": "markdown",
   "metadata": {},
   "source": [
    "Técnicas não paramétricas fazem poucas suposições sobre as distribuições originais."
   ]
  },
  {
   "cell_type": "markdown",
   "metadata": {},
   "source": [
    "#### Wilcoxon-Mann-Whitney"
   ]
  },
  {
   "cell_type": "markdown",
   "metadata": {},
   "source": [
    "O teste U de Mann-Whitney (também conhecido por teste da soma dos postos de Wilcoxon, teste de Wilcoxon-Mann-Whitney ou teste de Mann-Whitney) é a versão da rotina de teste não-paramétrico de t de Student."
   ]
  },
  {
   "cell_type": "code",
   "execution_count": 6,
   "metadata": {},
   "outputs": [
    {
     "data": {
      "text/html": [
       "<style>\n",
       ".list-inline {list-style: none; margin:0; padding: 0}\n",
       ".list-inline>li {display: inline-block}\n",
       ".list-inline>li:not(:last-child)::after {content: \"\\00b7\"; padding: 0 .5ex}\n",
       "</style>\n",
       "<ol class=list-inline><li>'age'</li><li>'workclass'</li><li>'fnlwgt'</li><li>'education'</li><li>'educational.num'</li><li>'marital.status'</li><li>'occupation'</li><li>'relationship'</li><li>'race'</li><li>'gender'</li><li>'capital.gain'</li><li>'capital.loss'</li><li>'hours.per.week'</li><li>'native.country'</li><li>'income'</li></ol>\n"
      ],
      "text/latex": [
       "\\begin{enumerate*}\n",
       "\\item 'age'\n",
       "\\item 'workclass'\n",
       "\\item 'fnlwgt'\n",
       "\\item 'education'\n",
       "\\item 'educational.num'\n",
       "\\item 'marital.status'\n",
       "\\item 'occupation'\n",
       "\\item 'relationship'\n",
       "\\item 'race'\n",
       "\\item 'gender'\n",
       "\\item 'capital.gain'\n",
       "\\item 'capital.loss'\n",
       "\\item 'hours.per.week'\n",
       "\\item 'native.country'\n",
       "\\item 'income'\n",
       "\\end{enumerate*}\n"
      ],
      "text/markdown": [
       "1. 'age'\n",
       "2. 'workclass'\n",
       "3. 'fnlwgt'\n",
       "4. 'education'\n",
       "5. 'educational.num'\n",
       "6. 'marital.status'\n",
       "7. 'occupation'\n",
       "8. 'relationship'\n",
       "9. 'race'\n",
       "10. 'gender'\n",
       "11. 'capital.gain'\n",
       "12. 'capital.loss'\n",
       "13. 'hours.per.week'\n",
       "14. 'native.country'\n",
       "15. 'income'\n",
       "\n",
       "\n"
      ],
      "text/plain": [
       " [1] \"age\"             \"workclass\"       \"fnlwgt\"          \"education\"      \n",
       " [5] \"educational.num\" \"marital.status\"  \"occupation\"      \"relationship\"   \n",
       " [9] \"race\"            \"gender\"          \"capital.gain\"    \"capital.loss\"   \n",
       "[13] \"hours.per.week\"  \"native.country\"  \"income\"         "
      ]
     },
     "metadata": {},
     "output_type": "display_data"
    }
   ],
   "source": [
    "names(adult)"
   ]
  },
  {
   "cell_type": "markdown",
   "metadata": {},
   "source": [
    "Vemos que a variável de ganho de capital não segue uma descrição normal"
   ]
  },
  {
   "cell_type": "code",
   "execution_count": 7,
   "metadata": {},
   "outputs": [
    {
     "name": "stderr",
     "output_type": "stream",
     "text": [
      "Warning message in ks.test(adult$capital.gain, \"pnorm\", mean(adult$capital.gain), :\n",
      "“ties should not be present for the Kolmogorov-Smirnov test”\n"
     ]
    },
    {
     "data": {
      "text/plain": [
       "\n",
       "\tOne-sample Kolmogorov-Smirnov test\n",
       "\n",
       "data:  adult$capital.gain\n",
       "D = 0.47495, p-value < 2.2e-16\n",
       "alternative hypothesis: two-sided\n"
      ]
     },
     "metadata": {},
     "output_type": "display_data"
    }
   ],
   "source": [
    "ks.test(adult$capital.gain ,\"pnorm\", mean(adult$capital.gain), sd(adult$capital.gain))"
   ]
  },
  {
   "cell_type": "markdown",
   "metadata": {},
   "source": [
    "Vamos verificar se existe diferença de ganho de capital por gênero"
   ]
  },
  {
   "cell_type": "code",
   "execution_count": 11,
   "metadata": {},
   "outputs": [
    {
     "data": {
      "text/html": [
       "<style>\n",
       ".list-inline {list-style: none; margin:0; padding: 0}\n",
       ".list-inline>li {display: inline-block}\n",
       ".list-inline>li:not(:last-child)::after {content: \"\\00b7\"; padding: 0 .5ex}\n",
       "</style>\n",
       "<ol class=list-inline><li>'Female'</li><li>'Male'</li></ol>\n"
      ],
      "text/latex": [
       "\\begin{enumerate*}\n",
       "\\item 'Female'\n",
       "\\item 'Male'\n",
       "\\end{enumerate*}\n"
      ],
      "text/markdown": [
       "1. 'Female'\n",
       "2. 'Male'\n",
       "\n",
       "\n"
      ],
      "text/plain": [
       "[1] \"Female\" \"Male\"  "
      ]
     },
     "metadata": {},
     "output_type": "display_data"
    }
   ],
   "source": [
    "levels(adult$gender)"
   ]
  },
  {
   "cell_type": "code",
   "execution_count": 12,
   "metadata": {},
   "outputs": [],
   "source": [
    "adult_male = adult %>% filter(gender == \"Male\")\n",
    "adult_female = adult %>% filter(gender == \"Female\")"
   ]
  },
  {
   "cell_type": "code",
   "execution_count": 13,
   "metadata": {},
   "outputs": [
    {
     "data": {
      "text/plain": [
       "\n",
       "\tWilcoxon rank sum test with continuity correction\n",
       "\n",
       "data:  adult_male$capital.gain and adult_female$capital.gain\n",
       "W = 274400000, p-value < 2.2e-16\n",
       "alternative hypothesis: true location shift is not equal to 0\n"
      ]
     },
     "metadata": {},
     "output_type": "display_data"
    }
   ],
   "source": [
    "wilcox.test(adult_male$capital.gain, adult_female$capital.gain)"
   ]
  },
  {
   "cell_type": "markdown",
   "metadata": {},
   "source": [
    "O teste teve $p_{valor}$ bem pequeno, o que nos pode faz concluir que existe diferença entre ganho de capital entre homens e mulheres"
   ]
  },
  {
   "cell_type": "markdown",
   "metadata": {},
   "source": [
    "#### Kruskal Wallys"
   ]
  },
  {
   "cell_type": "markdown",
   "metadata": {},
   "source": [
    "É um teste não paramétrico utilizado para comparar três ou mais populações. Ele é usado para testar a hipótese nula de que todas as populações possuem funções de distribuição iguais contra a hipótese alternativa de que ao menos duas das populações possuem funções de distribuição diferentes."
   ]
  },
  {
   "cell_type": "markdown",
   "metadata": {},
   "source": [
    "Vamos verificar se o nível educacional interfere no ganho de capital"
   ]
  },
  {
   "cell_type": "code",
   "execution_count": 8,
   "metadata": {},
   "outputs": [
    {
     "data": {
      "text/plain": [
       "\n",
       "\tKruskal-Wallis rank sum test\n",
       "\n",
       "data:  capital.gain by education\n",
       "Kruskal-Wallis chi-squared = 1129.6, df = 15, p-value < 2.2e-16\n"
      ]
     },
     "metadata": {},
     "output_type": "display_data"
    }
   ],
   "source": [
    "kruskal.test(capital.gain ~ education, data = adult)"
   ]
  },
  {
   "cell_type": "markdown",
   "metadata": {},
   "source": [
    "O valor p foi bem pequeno, o que corrobora que existe diferença em ganho de capital por conta da educação"
   ]
  },
  {
   "cell_type": "markdown",
   "metadata": {},
   "source": [
    "## Regressão Linear"
   ]
  },
  {
   "cell_type": "markdown",
   "metadata": {},
   "source": [
    "Os principais tipos de correlação estatística são: <br>\n",
    "**Spearmann** = correlação não paramétrica <br>\n",
    "**Pearson** = correlação paramétrica <br>"
   ]
  },
  {
   "cell_type": "code",
   "execution_count": 26,
   "metadata": {},
   "outputs": [
    {
     "data": {
      "text/html": [
       "0.124435648500177"
      ],
      "text/latex": [
       "0.124435648500177"
      ],
      "text/markdown": [
       "0.124435648500177"
      ],
      "text/plain": [
       "[1] 0.1244356"
      ]
     },
     "metadata": {},
     "output_type": "display_data"
    },
    {
     "name": "stderr",
     "output_type": "stream",
     "text": [
      "Warning message in cor.test.default(adult$capital.gain, adult$age, method = \"spearman\"):\n",
      "“Cannot compute exact p-value with ties”\n"
     ]
    },
    {
     "data": {
      "text/plain": [
       "\n",
       "\tSpearman's rank correlation rho\n",
       "\n",
       "data:  adult$capital.gain and adult$age\n",
       "S = 1.7003e+13, p-value < 2.2e-16\n",
       "alternative hypothesis: true rho is not equal to 0\n",
       "sample estimates:\n",
       "      rho \n",
       "0.1244356 \n"
      ]
     },
     "metadata": {},
     "output_type": "display_data"
    }
   ],
   "source": [
    "cor(adult$capital.gain, adult$age, method = \"spearman\")\n",
    "cor.test(adult$capital.gain, adult$age, method = \"spearman\")"
   ]
  },
  {
   "cell_type": "markdown",
   "metadata": {},
   "source": [
    "P valor baixo, a relação entre os dois é significativa"
   ]
  },
  {
   "cell_type": "code",
   "execution_count": 16,
   "metadata": {},
   "outputs": [],
   "source": [
    "linearMod <- lm(capital.gain ~ age, data=adult)\n",
    "modelSummary <- summary(linearMod)"
   ]
  },
  {
   "cell_type": "code",
   "execution_count": 25,
   "metadata": {},
   "outputs": [
    {
     "data": {
      "text/plain": [
       "\n",
       "Call:\n",
       "lm(formula = capital.gain ~ age, data = adult)\n",
       "\n",
       "Residuals:\n",
       "   Min     1Q Median     3Q    Max \n",
       " -3235  -1388   -926   -506  99661 \n",
       "\n",
       "Coefficients:\n",
       "            Estimate Std. Error t value Pr(>|t|)    \n",
       "(Intercept) -543.035    100.544  -5.401 6.66e-08 ***\n",
       "age           41.976      2.452  17.119  < 2e-16 ***\n",
       "---\n",
       "Signif. codes:  0 ‘***’ 0.001 ‘**’ 0.01 ‘*’ 0.05 ‘.’ 0.1 ‘ ’ 1\n",
       "\n",
       "Residual standard error: 7430 on 48840 degrees of freedom\n",
       "Multiple R-squared:  0.005964,\tAdjusted R-squared:  0.005944 \n",
       "F-statistic:   293 on 1 and 48840 DF,  p-value: < 2.2e-16\n"
      ]
     },
     "metadata": {},
     "output_type": "display_data"
    }
   ],
   "source": [
    "modelSummary"
   ]
  },
  {
   "cell_type": "markdown",
   "metadata": {},
   "source": [
    "Podemos ver que a correlação é considerável, com p <<< 5% <br>\n",
    "Nesse caso a hipótese alternativa é de que há correlação entre os coeficientes e o ganho de capital"
   ]
  },
  {
   "cell_type": "code",
   "execution_count": 17,
   "metadata": {},
   "outputs": [
    {
     "name": "stdout",
     "output_type": "stream",
     "text": [
      "[1] \"coeficientes -543.034900177983\"    \"coeficientes 41.9759840600675\"    \n",
      "[3] \"coeficientes 100.544017409863\"     \"coeficientes 2.45207363452385\"    \n",
      "[5] \"coeficientes -5.40096680207562\"    \"coeficientes 17.118565881982\"     \n",
      "[7] \"coeficientes 6.65915201816527e-08\" \"coeficientes 1.67674581047673e-65\"\n"
     ]
    }
   ],
   "source": [
    "print(paste(\"coeficientes\",modelSummary$coefficients))"
   ]
  },
  {
   "cell_type": "code",
   "execution_count": 24,
   "metadata": {},
   "outputs": [
    {
     "name": "stderr",
     "output_type": "stream",
     "text": [
      "`geom_smooth()` using formula 'y ~ x'\n",
      "\n"
     ]
    },
    {
     "data": {
      "image/png": "[encoded data removed]",
      "text/plain": [
       "plot without title"
      ]
     },
     "metadata": {
      "image/png": {
       "height": 420,
       "width": 420
      },
      "text/plain": {
       "height": 420,
       "width": 420
      }
     },
     "output_type": "display_data"
    }
   ],
   "source": [
    "ggplot(adult,aes(age, capital.gain)) + geom_point() + geom_smooth(method='lm')"
   ]
  }
 ],
 "metadata": {
  "kernelspec": {
   "display_name": "R",
   "language": "R",
   "name": "ir"
  },
  "language_info": {
   "codemirror_mode": "r",
   "file_extension": ".r",
   "mimetype": "text/x-r-source",
   "name": "R",
   "pygments_lexer": "r",
   "version": "3.4.4"
  }
 },
 "nbformat": 4,
 "nbformat_minor": 2
}
